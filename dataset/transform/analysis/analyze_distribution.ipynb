{
 "cells": [
  {
   "cell_type": "code",
   "execution_count": 1,
   "metadata": {},
   "outputs": [],
   "source": [
    "import pandas as pd\n",
    "import matplotlib.pyplot as plt\n",
    "\n",
    "df_train = pd.read_table(\"../train_metalnet.tsv\")\n",
    "df_test = pd.read_table(\"../test_metalnet.tsv\")\n",
    "df = pd.concat([df_train, df_test])"
   ]
  },
  {
   "attachments": {},
   "cell_type": "markdown",
   "metadata": {},
   "source": [
    "## distribution of metal binding residue annotation"
   ]
  },
  {
   "cell_type": "code",
   "execution_count": 2,
   "metadata": {},
   "outputs": [
    {
     "data": {
      "text/plain": [
       "['ZN', 'CA', 'MG', 'SF4', 'MN', 'FE', 'NI', 'CU', 'FES', 'CO', 'F3S']"
      ]
     },
     "execution_count": 2,
     "metadata": {},
     "output_type": "execute_result"
    },
    {
     "data": {
      "text/plain": [
       "[9319, 5118, 1487, 1016, 976, 798, 487, 416, 361, 148, 84]"
      ]
     },
     "execution_count": 2,
     "metadata": {},
     "output_type": "execute_result"
    }
   ],
   "source": [
    "def count_resi_anno_to_num(df):\n",
    "    metal_sites = set(zip(df['pdb'], df['metal_chain'], df['metal_resi'], df['resi_ndb_seq_can_num'])) # we count residue number, not site number\n",
    "    metal2num = dict()\n",
    "    for i in metal_sites:\n",
    "        _, _, resi, _ = i\n",
    "        if resi in metal2num.keys():\n",
    "            metal2num[resi] += 1\n",
    "        else:\n",
    "            metal2num[resi] = 1\n",
    "    data = list(metal2num.items())\n",
    "    data.sort(key=lambda x: x[1], reverse=True)\n",
    "    x = [i[0] for i in data]\n",
    "    y = [i[1] for i in data]\n",
    "    return x, y\n",
    "\n",
    "x, y = count_resi_anno_to_num(df)\n",
    "x\n",
    "y"
   ]
  },
  {
   "cell_type": "code",
   "execution_count": 3,
   "metadata": {},
   "outputs": [
    {
     "data": {
      "text/plain": [
       "[1261, 680, 293, 101, 167, 111, 103, 61, 34, 63, 0]"
      ]
     },
     "execution_count": 3,
     "metadata": {},
     "output_type": "execute_result"
    }
   ],
   "source": [
    "x_train_old = ['ZN', 'CA', 'MG', 'MN', 'FE', 'NI', 'SF4', 'CO', 'CU', 'FES']\n",
    "y_train_old = [1261, 680, 293, 167, 111, 103, 101, 63, 61, 34]# from paper https://doi.org/10.1038/s41589-022-01223-z\n",
    "train_old_metal2num = dict(zip(x_train_old, y_train_old))\n",
    "y_train_old = [train_old_metal2num[i] if i in train_old_metal2num.keys() else 0 for i in x]\n",
    "y_train_old"
   ]
  },
  {
   "cell_type": "code",
   "execution_count": 4,
   "metadata": {},
   "outputs": [
    {
     "name": "stderr",
     "output_type": "stream",
     "text": [
      "/tmp/ipykernel_21490/1415502877.py:4: RuntimeWarning: divide by zero encountered in log10\n",
      "  y_train_old = np.log10(y_train_old)\n"
     ]
    }
   ],
   "source": [
    "import numpy as np\n",
    "\n",
    "y = np.log10(y)\n",
    "y_train_old = np.log10(y_train_old)"
   ]
  },
  {
   "cell_type": "code",
   "execution_count": 5,
   "metadata": {},
   "outputs": [
    {
     "data": {
      "text/plain": [
       "Text(0, 0.5, 'Number of metal-binding residues')"
      ]
     },
     "execution_count": 5,
     "metadata": {},
     "output_type": "execute_result"
    },
    {
     "data": {
      "text/plain": [
       "Text(0.5, 0, 'Metal type')"
      ]
     },
     "execution_count": 5,
     "metadata": {},
     "output_type": "execute_result"
    },
    {
     "data": {
      "text/plain": [
       "([<matplotlib.axis.XTick at 0x7f566c50c7c0>,\n",
       "  <matplotlib.axis.XTick at 0x7f566c50c790>,\n",
       "  <matplotlib.axis.XTick at 0x7f566c50c280>,\n",
       "  <matplotlib.axis.XTick at 0x7f566c46bbe0>,\n",
       "  <matplotlib.axis.XTick at 0x7f566c407400>,\n",
       "  <matplotlib.axis.XTick at 0x7f566c407eb0>,\n",
       "  <matplotlib.axis.XTick at 0x7f566c40b9a0>,\n",
       "  <matplotlib.axis.XTick at 0x7f566c413490>,\n",
       "  <matplotlib.axis.XTick at 0x7f566c40b250>,\n",
       "  <matplotlib.axis.XTick at 0x7f566c413eb0>,\n",
       "  <matplotlib.axis.XTick at 0x7f566c4169a0>],\n",
       " [Text(0, 0, 'ZN'),\n",
       "  Text(1, 0, 'CA'),\n",
       "  Text(2, 0, 'MG'),\n",
       "  Text(3, 0, 'SF4'),\n",
       "  Text(4, 0, 'MN'),\n",
       "  Text(5, 0, 'FE'),\n",
       "  Text(6, 0, 'NI'),\n",
       "  Text(7, 0, 'CU'),\n",
       "  Text(8, 0, 'FES'),\n",
       "  Text(9, 0, 'CO'),\n",
       "  Text(10, 0, 'F3S')])"
      ]
     },
     "execution_count": 5,
     "metadata": {},
     "output_type": "execute_result"
    },
    {
     "data": {
      "text/plain": [
       "([<matplotlib.axis.YTick at 0x7f566c44a3a0>,\n",
       "  <matplotlib.axis.YTick at 0x7f566c50ce20>,\n",
       "  <matplotlib.axis.YTick at 0x7f566c4f4e80>,\n",
       "  <matplotlib.axis.YTick at 0x7f566c41dfa0>,\n",
       "  <matplotlib.axis.YTick at 0x7f566c416610>],\n",
       " [Text(0, 0, '0'),\n",
       "  Text(0, 1, '$10^1$'),\n",
       "  Text(0, 2, '$10^2$'),\n",
       "  Text(0, 3, '$10^3$'),\n",
       "  Text(0, 4, '$10^4$')])"
      ]
     },
     "execution_count": 5,
     "metadata": {},
     "output_type": "execute_result"
    },
    {
     "data": {
      "text/plain": [
       "<BarContainer object of 11 artists>"
      ]
     },
     "execution_count": 5,
     "metadata": {},
     "output_type": "execute_result"
    },
    {
     "data": {
      "text/plain": [
       "<BarContainer object of 11 artists>"
      ]
     },
     "execution_count": 5,
     "metadata": {},
     "output_type": "execute_result"
    },
    {
     "data": {
      "text/plain": [
       "<matplotlib.legend.Legend at 0x7f566c4f4dc0>"
      ]
     },
     "execution_count": 5,
     "metadata": {},
     "output_type": "execute_result"
    },
    {
     "data": {
      "image/png": "[encoded data removed]",
      "text/plain": [
       "<Figure size 640x480 with 1 Axes>"
      ]
     },
     "metadata": {},
     "output_type": "display_data"
    }
   ],
   "source": [
    "plt.style.use(f\"{PROJECT_DIR}/asset/metalnet.mplstyle\")\n",
    "\n",
    "plt.ylabel(\"Number of metal-binding residues\")\n",
    "plt.xlabel(\"Metal type\")\n",
    "ax = plt.gca()\n",
    "ax.spines['top'].set_visible(False)\n",
    "ax.spines['right'].set_visible(False)\n",
    "\n",
    "coor_x = np.arange(len(x))\n",
    "plt.xticks(coor_x, labels=x)\n",
    "plt.yticks([0, 1, 2, 3, 4], labels=[\"0\", \"$10^1$\", \"$10^2$\", \"$10^3$\", \"$10^4$\"])\n",
    "\n",
    "width = 0.4\n",
    "plt.bar(coor_x - width / 2, y_train_old, width=width)\n",
    "plt.bar(coor_x + width / 2, y, width=width)\n",
    "\n",
    "plt.legend(\n",
    "    ['MetalNet', 'MetalNet2'], \n",
    "    bbox_to_anchor=(1,1), \n",
    "    loc='upper right', \n",
    ")\n",
    "plt.savefig(\"./fig/distribution_metal_binding_resi_annotation.pdf\", bbox_inches=\"tight\", transparent=True)"
   ]
  },
  {
   "cell_type": "code",
   "execution_count": null,
   "metadata": {},
   "outputs": [],
   "source": []
  }
 ],
 "metadata": {
  "kernelspec": {
   "display_name": "metalnet",
   "language": "python",
   "name": "python3"
  },
  "language_info": {
   "codemirror_mode": {
    "name": "ipython",
    "version": 3
   },
   "file_extension": ".py",
   "mimetype": "text/x-python",
   "name": "python",
   "nbconvert_exporter": "python",
   "pygments_lexer": "ipython3",
   "version": "3.9.16"
  },
  "orig_nbformat": 4
 },
 "nbformat": 4,
 "nbformat_minor": 2
}
