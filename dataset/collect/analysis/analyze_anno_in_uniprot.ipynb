{
 "cells": [
  {
   "cell_type": "code",
   "execution_count": 1,
   "metadata": {},
   "outputs": [],
   "source": [
    "import pandas as pd"
   ]
  },
  {
   "cell_type": "markdown",
   "metadata": {},
   "source": [
    "## metal-binding uniprot ids defined by structure"
   ]
  },
  {
   "cell_type": "code",
   "execution_count": 2,
   "metadata": {},
   "outputs": [],
   "source": [
    "df = pd.read_csv(\"../metal_chains.tsv\", sep=\"\\t\")\n",
    "pdb_chains = set(zip(df['pdb'], df['metal_chain']))\n",
    "\n",
    "df = pd.read_csv(\"~/database/uniprot/idmapping/pdb2uniprot.csv\", sep=\"\\t\")\n",
    "chain2uni = dict(zip(zip(df['pdb'], df['chain']), df['uniprot']))"
   ]
  },
  {
   "cell_type": "code",
   "execution_count": 3,
   "metadata": {},
   "outputs": [
    {
     "data": {
      "text/plain": [
       "430"
      ]
     },
     "execution_count": 3,
     "metadata": {},
     "output_type": "execute_result"
    },
    {
     "data": {
      "text/plain": [
       "4329"
      ]
     },
     "execution_count": 3,
     "metadata": {},
     "output_type": "execute_result"
    },
    {
     "data": {
      "text/plain": [
       "4097"
      ]
     },
     "execution_count": 3,
     "metadata": {},
     "output_type": "execute_result"
    }
   ],
   "source": [
    "missing_uniprots_cnt = 0\n",
    "metal_uniprots = []\n",
    "for i in pdb_chains:\n",
    "    if i not in chain2uni.keys(): missing_uniprots_cnt += 1\n",
    "    else: metal_uniprots.append(chain2uni[i])\n",
    "    \n",
    "missing_uniprots_cnt\n",
    "len(metal_uniprots)\n",
    "metal_uniprots = set(metal_uniprots) # some pdb chains may point to the same uniprot id (as fragments)\n",
    "len(metal_uniprots)"
   ]
  },
  {
   "cell_type": "markdown",
   "metadata": {},
   "source": [
    "## metal-binding uniprot ids annotated in txt file"
   ]
  },
  {
   "cell_type": "code",
   "execution_count": 4,
   "metadata": {},
   "outputs": [],
   "source": [
    "# swiss file is downloaded from https://rest.uniprot.org/uniprotkb/*.txt\n",
    "# anno file is generated from apps/metalloproteome/scripts/annotate_proteome.py\n",
    "df = pd.read_table(\"~/database/metalnet/uniprot/swiss/metal_anno/metal_chains_anno.csv\")\n",
    "anno_uniprots = set(df['uniprot'])"
   ]
  },
  {
   "cell_type": "code",
   "execution_count": 5,
   "metadata": {},
   "outputs": [
    {
     "data": {
      "text/plain": [
       "2328"
      ]
     },
     "execution_count": 5,
     "metadata": {},
     "output_type": "execute_result"
    },
    {
     "data": {
      "text/plain": [
       "0.5682206492555528"
      ]
     },
     "execution_count": 5,
     "metadata": {},
     "output_type": "execute_result"
    }
   ],
   "source": [
    "intersection = anno_uniprots & metal_uniprots\n",
    "len(intersection)\n",
    "len(intersection) / len(metal_uniprots)"
   ]
  }
 ],
 "metadata": {
  "kernelspec": {
   "display_name": "metalnet",
   "language": "python",
   "name": "python3"
  },
  "language_info": {
   "codemirror_mode": {
    "name": "ipython",
    "version": 3
   },
   "file_extension": ".py",
   "mimetype": "text/x-python",
   "name": "python",
   "nbconvert_exporter": "python",
   "pygments_lexer": "ipython3",
   "version": "3.9.16"
  },
  "orig_nbformat": 4
 },
 "nbformat": 4,
 "nbformat_minor": 2
}
