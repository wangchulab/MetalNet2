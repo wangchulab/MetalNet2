{
 "cells": [
  {
   "cell_type": "code",
   "execution_count": 1,
   "metadata": {},
   "outputs": [
    {
     "data": {
      "text/plain": [
       "283"
      ]
     },
     "execution_count": 1,
     "metadata": {},
     "output_type": "execute_result"
    },
    {
     "data": {
      "text/plain": [
       "56"
      ]
     },
     "execution_count": 1,
     "metadata": {},
     "output_type": "execute_result"
    },
    {
     "data": {
      "text/plain": [
       "368"
      ]
     },
     "execution_count": 1,
     "metadata": {},
     "output_type": "execute_result"
    },
    {
     "data": {
      "text/plain": [
       "63"
      ]
     },
     "execution_count": 1,
     "metadata": {},
     "output_type": "execute_result"
    }
   ],
   "source": [
    "import pandas as pd\n",
    "\n",
    "CHED = {'C', 'H', 'E', 'D'}\n",
    "\n",
    "df = pd.read_table(\"../metal_chains.tsv\")\n",
    "sites_multi_num = set()\n",
    "sites_single_num = set()\n",
    "for pdb_chain_metal_num, df_site in df.groupby(['pdb', 'metal_chain', 'metal_pdb_seq_num']):\n",
    "    residues = set(df_site['resi'])\n",
    "    chain_to_num = set(zip(df_site['resi_chain'], df_site['resi_ndb_seq_can_num']))\n",
    "    if len(residues - (residues & CHED)) == 0: # all ched\n",
    "        chain_to_nums = dict()\n",
    "        for chain, num in chain_to_num:\n",
    "            if chain not in chain_to_nums.keys():\n",
    "                chain_to_nums[chain] = {num}\n",
    "            else:\n",
    "                chain_to_nums[chain].add(num)\n",
    "        \n",
    "        if len(chain_to_nums.keys()) > 1: # interface\n",
    "            \n",
    "            resi_seq_nums = set()\n",
    "            for v in chain_to_nums.values(): resi_seq_nums |= v \n",
    "            if len(resi_seq_nums) == 1: sites_single_num.add(pdb_chain_metal_num)  # different chain use the \"same\" residues to bind metal\n",
    "            else: sites_multi_num.add(pdb_chain_metal_num)\n",
    "\n",
    "df_target_multi = df[df.apply(lambda row: (row['pdb'], row['metal_chain'], row['metal_pdb_seq_num']) in sites_multi_num, axis=1)]\n",
    "df_target_single = df[df.apply(lambda row: (row['pdb'], row['metal_chain'], row['metal_pdb_seq_num']) in sites_single_num, axis=1)]\n",
    "len(set(zip(df_target_multi['pdb'], df_target_multi['metal_chain'])))\n",
    "len(set(zip(df_target_single['pdb'], df_target_single['metal_chain'])))\n",
    "len(sites_multi_num)\n",
    "len(sites_single_num)"
   ]
  },
  {
   "cell_type": "code",
   "execution_count": 2,
   "metadata": {},
   "outputs": [],
   "source": [
    "df_target_multi.to_csv(\"sites_interface_multi_num.tsv\", sep=\"\\t\", index=None)\n",
    "df_target_single.to_csv(\"sites_interface_single_num.tsv\", sep=\"\\t\", index=None)"
   ]
  },
  {
   "attachments": {},
   "cell_type": "markdown",
   "metadata": {},
   "source": [
    "### some example:"
   ]
  },
  {
   "attachments": {},
   "cell_type": "markdown",
   "metadata": {},
   "source": [
    "| pdb      | residues        |\n",
    "|----------|-----------------|\n",
    "| 1q5y     | H28             |\n",
    "| 1tkp     | H52             |\n",
    "| **2pyb** | H28             |\n",
    "| 2ux1     | H40             |\n",
    "| 2ysy     | H31             |\n",
    "| 3ak9     | H51             |\n",
    "| 3h90     | H254            |\n",
    "| 3mps     | E51             |\n",
    "| 3pjn     | H182            |\n",
    "| 3t91     | D43             |\n",
    "| **4iwh** | D230            |\n",
    "| **4r2y** | C60 C57         |\n",
    "| **5vmd** | C41 C45 C72 C63 |\n",
    "| 6hbe     | H267            |\n",
    "| **6k18** | D171            |\n",
    "| 6mrj     | H88             |\n",
    "| 6sev     | H25             |\n",
    "| 6tfo     | H419            |\n",
    "| 6vd8     | H75             |\n",
    "| **7bgm** | C84             |\n",
    "| 7o91     | E55             |\n",
    "| **7ukh** | C111            |"
   ]
  }
 ],
 "metadata": {
  "kernelspec": {
   "display_name": "metalnet",
   "language": "python",
   "name": "python3"
  },
  "language_info": {
   "codemirror_mode": {
    "name": "ipython",
    "version": 3
   },
   "file_extension": ".py",
   "mimetype": "text/x-python",
   "name": "python",
   "nbconvert_exporter": "python",
   "pygments_lexer": "ipython3",
   "version": "3.9.16"
  },
  "orig_nbformat": 4
 },
 "nbformat": 4,
 "nbformat_minor": 2
}
