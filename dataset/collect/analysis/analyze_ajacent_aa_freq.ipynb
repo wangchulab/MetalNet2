{
 "cells": [
  {
   "cell_type": "markdown",
   "metadata": {},
   "source": [
    "## prepare data"
   ]
  },
  {
   "cell_type": "code",
   "execution_count": 1,
   "metadata": {},
   "outputs": [],
   "source": [
    "import pandas as pd\n",
    "import numpy as np\n",
    "\n",
    "from Bio.PDB.NeighborSearch import NeighborSearch\n",
    "from Bio.PDB.Residue import Residue\n",
    "from Bio.PDB.Atom import Atom\n",
    "from Bio.SeqUtils import seq1\n",
    "from typing import List\n",
    "\n",
    "\n",
    "df_pdb_file = pd.read_table(\"~/database/pdb/rcsb_20230430/all_protein_files.csv\")\n",
    "dict_pdb_file = dict(zip(df_pdb_file['pdb'], df_pdb_file['pdb_file']))\n",
    "df = pd.read_table(\"../nr_metal_sites.tsv\")\n",
    "resi_interact_distance_threshold = 9"
   ]
  },
  {
   "cell_type": "code",
   "execution_count": 2,
   "metadata": {},
   "outputs": [],
   "source": [
    "import sys\n",
    "sys.path.append(f\"{PROJECT_DIR}/dataset/collect/scripts/utils\")\n",
    "from io_utils import parse_mmcif_file\n",
    "from constants import common_amino_acids\n",
    "\n",
    "def get_centroid(atoms: List[Atom]):\n",
    "    \n",
    "    atoms_coordinates = []\n",
    "    for a in atoms:\n",
    "        a: Atom\n",
    "        atoms_coordinates.append(a.get_vector().get_array())\n",
    "    cur_centroid = np.mean(np.array(atoms_coordinates), axis=0)\n",
    "    return cur_centroid"
   ]
  },
  {
   "cell_type": "code",
   "execution_count": 3,
   "metadata": {},
   "outputs": [
    {
     "name": "stderr",
     "output_type": "stream",
     "text": [
      "/tmp/ipykernel_19405/1305842294.py:3: FutureWarning: In a future version of pandas, a length 1 tuple will be returned when iterating over a groupby with a grouper equal to a list of length 1. Don't supply a list with a single grouper to avoid this warning.\n",
      "  for pdb, df_pdb in df.groupby(['pdb']):\n"
     ]
    }
   ],
   "source": [
    "dict_metal_site_to_resi_nb_info = dict()\n",
    "\n",
    "for pdb, df_pdb in df.groupby(['pdb']):\n",
    "    \n",
    "    struct, _ = parse_mmcif_file(pdb, dict_pdb_file[pdb])\n",
    "    model = next(struct.get_models())\n",
    "    \n",
    "    dict_id_to_resi = dict() # hetero id (chain pdb_seq_num) to resi\n",
    "    atoms = []\n",
    "    for r in model.get_residues():\n",
    "        r: Residue\n",
    "        if str.capitalize(r.get_resname()) in common_amino_acids:\n",
    "            for a in r.get_atoms(): atoms.append(a)\n",
    "        else: \n",
    "            chain, pdb_seq_num = r.get_full_id()[2], r.get_id()[1]\n",
    "            dict_id_to_resi[(chain, pdb_seq_num)] = r\n",
    "    ns = NeighborSearch(atoms)\n",
    "    \n",
    "    for chain_seq_num, df_site in df_pdb.groupby(['metal_chain', \"metal_pdb_seq_num\"]):\n",
    "        \n",
    "        target_resi: Residue\n",
    "        target_atom: Atom\n",
    "        \n",
    "        metal_chain, metal_pdb_seq_num = chain_seq_num\n",
    "        site = (pdb, metal_chain, metal_pdb_seq_num)\n",
    "        \n",
    "        target_resi = dict_id_to_resi[(metal_chain, metal_pdb_seq_num)]\n",
    "        target_atoms = list(target_resi.get_atoms())\n",
    "        target_atom_coord = None\n",
    "        if len(target_atoms) > 1: target_atom_coord = get_centroid(target_atoms)\n",
    "        else: target_atom_coord = target_atoms[0].get_vector().get_array()\n",
    "        \n",
    "        nb_resis_info = [] \n",
    "        nb_resis = ns.search(target_atom_coord, resi_interact_distance_threshold, level=\"R\")\n",
    "        for i in nb_resis:\n",
    "            i: Residue\n",
    "            distance = np.min([np.linalg.norm(a.get_vector().get_array() - target_atom_coord, 2) for a in i.get_atoms()])\n",
    "            nb_resis_info.append((i.get_full_id(), distance, seq1(i.get_resname())))\n",
    "        dict_metal_site_to_resi_nb_info[site] = nb_resis_info\n",
    "        \n",
    "# about half an hour"
   ]
  },
  {
   "cell_type": "markdown",
   "metadata": {},
   "source": [
    "## get statistic data"
   ]
  },
  {
   "cell_type": "code",
   "execution_count": 4,
   "metadata": {},
   "outputs": [],
   "source": [
    "from itertools import product\n",
    "import math\n",
    "\n",
    "x_axis = list([seq1(i) for i in common_amino_acids])\n",
    "y_axis = [3, 6, 9]\n",
    "\n",
    "dict_data = dict() # (aa_one_letter, interval) -> num\n",
    "for key in product(x_axis, y_axis):\n",
    "    dict_data[key] = 0\n",
    "x_resi_set = set()\n",
    "for v in dict_metal_site_to_resi_nb_info.values():\n",
    "    for resi_info in v:\n",
    "        full_id, distance, resname = resi_info\n",
    "        assert resname in x_axis\n",
    "        interval = math.ceil(distance / 3) * 3\n",
    "        dict_data[(resname, interval)] += 1\n",
    "data = [[*k, v] for k, v in dict_data.items()]"
   ]
  },
  {
   "cell_type": "code",
   "execution_count": 5,
   "metadata": {},
   "outputs": [],
   "source": [
    "records = dict()\n",
    "for d in data:\n",
    "    aa, distance_interval, num = d\n",
    "    if distance_interval not in records.keys():\n",
    "        records[distance_interval] = dict()\n",
    "    records[distance_interval][aa] = num\n",
    "\n",
    "for k, v in records.items():\n",
    "    total = sum(v.values())\n",
    "    for v1 in v.keys():\n",
    "        v[v1] = round(v[v1] / total * 100, 2) # to percent\n",
    "        \n",
    "true_records = []\n",
    "for k, v in records.items():\n",
    "    v[\"range\"] = str(k)\n",
    "    true_records.append(v)"
   ]
  },
  {
   "cell_type": "markdown",
   "metadata": {},
   "source": [
    " ## visualize"
   ]
  },
  {
   "cell_type": "code",
   "execution_count": 6,
   "metadata": {},
   "outputs": [
    {
     "data": {
      "text/html": [
       "<div>\n",
       "<style scoped>\n",
       "    .dataframe tbody tr th:only-of-type {\n",
       "        vertical-align: middle;\n",
       "    }\n",
       "\n",
       "    .dataframe tbody tr th {\n",
       "        vertical-align: top;\n",
       "    }\n",
       "\n",
       "    .dataframe thead th {\n",
       "        text-align: right;\n",
       "    }\n",
       "</style>\n",
       "<table border=\"1\" class=\"dataframe\">\n",
       "  <thead>\n",
       "    <tr style=\"text-align: right;\">\n",
       "      <th></th>\n",
       "      <th>A</th>\n",
       "      <th>C</th>\n",
       "      <th>D</th>\n",
       "      <th>E</th>\n",
       "      <th>F</th>\n",
       "      <th>G</th>\n",
       "      <th>H</th>\n",
       "      <th>I</th>\n",
       "      <th>K</th>\n",
       "      <th>L</th>\n",
       "      <th>...</th>\n",
       "      <th>N</th>\n",
       "      <th>P</th>\n",
       "      <th>Q</th>\n",
       "      <th>R</th>\n",
       "      <th>S</th>\n",
       "      <th>T</th>\n",
       "      <th>V</th>\n",
       "      <th>W</th>\n",
       "      <th>Y</th>\n",
       "      <th>range</th>\n",
       "    </tr>\n",
       "  </thead>\n",
       "  <tbody>\n",
       "    <tr>\n",
       "      <th>0</th>\n",
       "      <td>1.28</td>\n",
       "      <td>20.57</td>\n",
       "      <td>24.51</td>\n",
       "      <td>12.69</td>\n",
       "      <td>0.71</td>\n",
       "      <td>2.67</td>\n",
       "      <td>18.21</td>\n",
       "      <td>1.03</td>\n",
       "      <td>1.19</td>\n",
       "      <td>1.34</td>\n",
       "      <td>...</td>\n",
       "      <td>4.64</td>\n",
       "      <td>0.53</td>\n",
       "      <td>1.71</td>\n",
       "      <td>0.85</td>\n",
       "      <td>2.33</td>\n",
       "      <td>2.11</td>\n",
       "      <td>1.53</td>\n",
       "      <td>0.31</td>\n",
       "      <td>1.24</td>\n",
       "      <td>3</td>\n",
       "    </tr>\n",
       "    <tr>\n",
       "      <th>1</th>\n",
       "      <td>6.01</td>\n",
       "      <td>4.65</td>\n",
       "      <td>6.32</td>\n",
       "      <td>5.36</td>\n",
       "      <td>4.85</td>\n",
       "      <td>9.44</td>\n",
       "      <td>5.52</td>\n",
       "      <td>4.73</td>\n",
       "      <td>4.89</td>\n",
       "      <td>6.11</td>\n",
       "      <td>...</td>\n",
       "      <td>5.32</td>\n",
       "      <td>4.44</td>\n",
       "      <td>3.19</td>\n",
       "      <td>5.26</td>\n",
       "      <td>5.74</td>\n",
       "      <td>4.95</td>\n",
       "      <td>4.96</td>\n",
       "      <td>1.82</td>\n",
       "      <td>4.41</td>\n",
       "      <td>6</td>\n",
       "    </tr>\n",
       "    <tr>\n",
       "      <th>2</th>\n",
       "      <td>7.21</td>\n",
       "      <td>1.89</td>\n",
       "      <td>5.48</td>\n",
       "      <td>5.20</td>\n",
       "      <td>5.26</td>\n",
       "      <td>7.61</td>\n",
       "      <td>2.95</td>\n",
       "      <td>6.07</td>\n",
       "      <td>4.26</td>\n",
       "      <td>8.64</td>\n",
       "      <td>...</td>\n",
       "      <td>4.49</td>\n",
       "      <td>4.16</td>\n",
       "      <td>3.44</td>\n",
       "      <td>5.14</td>\n",
       "      <td>6.06</td>\n",
       "      <td>6.04</td>\n",
       "      <td>7.16</td>\n",
       "      <td>2.06</td>\n",
       "      <td>4.53</td>\n",
       "      <td>9</td>\n",
       "    </tr>\n",
       "    <tr>\n",
       "      <th>3</th>\n",
       "      <td>8.76</td>\n",
       "      <td>1.38</td>\n",
       "      <td>5.49</td>\n",
       "      <td>6.32</td>\n",
       "      <td>3.87</td>\n",
       "      <td>7.03</td>\n",
       "      <td>2.26</td>\n",
       "      <td>5.49</td>\n",
       "      <td>5.19</td>\n",
       "      <td>9.68</td>\n",
       "      <td>...</td>\n",
       "      <td>3.93</td>\n",
       "      <td>5.02</td>\n",
       "      <td>3.90</td>\n",
       "      <td>5.78</td>\n",
       "      <td>7.14</td>\n",
       "      <td>5.53</td>\n",
       "      <td>6.73</td>\n",
       "      <td>1.25</td>\n",
       "      <td>2.91</td>\n",
       "      <td>random</td>\n",
       "    </tr>\n",
       "  </tbody>\n",
       "</table>\n",
       "<p>4 rows × 21 columns</p>\n",
       "</div>"
      ],
      "text/plain": [
       "      A      C      D      E     F     G      H     I     K     L  ...     N  \\\n",
       "0  1.28  20.57  24.51  12.69  0.71  2.67  18.21  1.03  1.19  1.34  ...  4.64   \n",
       "1  6.01   4.65   6.32   5.36  4.85  9.44   5.52  4.73  4.89  6.11  ...  5.32   \n",
       "2  7.21   1.89   5.48   5.20  5.26  7.61   2.95  6.07  4.26  8.64  ...  4.49   \n",
       "3  8.76   1.38   5.49   6.32  3.87  7.03   2.26  5.49  5.19  9.68  ...  3.93   \n",
       "\n",
       "      P     Q     R     S     T     V     W     Y   range  \n",
       "0  0.53  1.71  0.85  2.33  2.11  1.53  0.31  1.24       3  \n",
       "1  4.44  3.19  5.26  5.74  4.95  4.96  1.82  4.41       6  \n",
       "2  4.16  3.44  5.14  6.06  6.04  7.16  2.06  4.53       9  \n",
       "3  5.02  3.90  5.78  7.14  5.53  6.73  1.25  2.91  random  \n",
       "\n",
       "[4 rows x 21 columns]"
      ]
     },
     "execution_count": 6,
     "metadata": {},
     "output_type": "execute_result"
    }
   ],
   "source": [
    "random = {\n",
    "    'A': 8.76,\n",
    "    'C': 1.38,\n",
    "    'D': 5.49,\n",
    "    'E': 6.32,\n",
    "    'F': 3.87,\n",
    "    'G': 7.03,\n",
    "    'H': 2.26,\n",
    "    'I': 5.49,\n",
    "    'K': 5.19,\n",
    "    'L': 9.68,\n",
    "    'M': 2.32,\n",
    "    'N': 3.93,\n",
    "    'P': 5.02,\n",
    "    'Q': 3.9,\n",
    "    'R': 5.78,\n",
    "    'S': 7.14,\n",
    "    'T': 5.53,\n",
    "    'V': 6.73,\n",
    "    'W': 1.25,\n",
    "    'Y': 2.91,\n",
    "    'range': 'random'\n",
    "} # Proteome-pI: proteome isoelectric point database, Nucleic Acids Research\n",
    "true_records.append(random)\n",
    "df = pd.DataFrame(true_records)\n",
    "df = df[sorted(random.keys())]\n",
    "df"
   ]
  },
  {
   "cell_type": "code",
   "execution_count": 7,
   "metadata": {},
   "outputs": [],
   "source": [
    "x = list(df.columns)[:-1]\n",
    "y = dict()\n",
    "for _, row in df.iterrows():\n",
    "    y[row['range']] = list(dict(row).values())[:-1]"
   ]
  },
  {
   "cell_type": "code",
   "execution_count": 10,
   "metadata": {},
   "outputs": [
    {
     "data": {
      "text/plain": [
       "[<matplotlib.lines.Line2D at 0x7f1cd35fca60>]"
      ]
     },
     "execution_count": 10,
     "metadata": {},
     "output_type": "execute_result"
    },
    {
     "data": {
      "text/plain": [
       "[<matplotlib.lines.Line2D at 0x7f1cd35fcdc0>]"
      ]
     },
     "execution_count": 10,
     "metadata": {},
     "output_type": "execute_result"
    },
    {
     "data": {
      "text/plain": [
       "[<matplotlib.lines.Line2D at 0x7f1cd360a0a0>]"
      ]
     },
     "execution_count": 10,
     "metadata": {},
     "output_type": "execute_result"
    },
    {
     "data": {
      "text/plain": [
       "[<matplotlib.lines.Line2D at 0x7f1cd360a160>]"
      ]
     },
     "execution_count": 10,
     "metadata": {},
     "output_type": "execute_result"
    },
    {
     "data": {
      "text/plain": [
       "<matplotlib.legend.Legend at 0x7f1cd35fceb0>"
      ]
     },
     "execution_count": 10,
     "metadata": {},
     "output_type": "execute_result"
    },
    {
     "data": {
      "text/plain": [
       "Text(0.5, 0, 'Amino acid')"
      ]
     },
     "execution_count": 10,
     "metadata": {},
     "output_type": "execute_result"
    },
    {
     "data": {
      "text/plain": [
       "Text(0, 0.5, 'Frequency (%)')"
      ]
     },
     "execution_count": 10,
     "metadata": {},
     "output_type": "execute_result"
    },
    {
     "data": {
      "image/png": "[encoded data removed]",
      "text/plain": [
       "<Figure size 640x480 with 1 Axes>"
      ]
     },
     "metadata": {},
     "output_type": "display_data"
    }
   ],
   "source": [
    "import matplotlib.pyplot as plt\n",
    "plt.rcParams['font.family'] = \"Arial\"\n",
    "\n",
    "plt.plot(x, y['3'], marker='.', markersize=12)\n",
    "plt.plot(x, y['6'], marker='.', markersize=12)\n",
    "plt.plot(x, y['9'], marker='.', markersize=12)\n",
    "plt.plot(x, y['random'], marker='.', markersize=12)\n",
    "\n",
    "plt.legend(labels = ['< 3 Å', 'within 3~6 Å', 'within 6~9 Å', 'random'],\n",
    "           fontsize=14)\n",
    "\n",
    "ax = plt.gca()\n",
    "ax.spines['top'].set_visible(False)\n",
    "ax.spines['right'].set_visible(False)\n",
    "for t in ax.get_yticklabels():\n",
    "    t.set_fontsize(12)\n",
    "for t in ax.get_xticklabels():\n",
    "    t.set_fontsize(12)\n",
    "plt.xlabel(\"Amino acid\", fontsize=14)\n",
    "plt.ylabel(\"Frequency (%)\", fontsize=14)\n",
    "\n",
    "plt.savefig(\"./fig/distribution_ajacent_aa_freq.pdf\", bbox_inches='tight')"
   ]
  }
 ],
 "metadata": {
  "kernelspec": {
   "display_name": "metalnet",
   "language": "python",
   "name": "python3"
  },
  "language_info": {
   "codemirror_mode": {
    "name": "ipython",
    "version": 3
   },
   "file_extension": ".py",
   "mimetype": "text/x-python",
   "name": "python",
   "nbconvert_exporter": "python",
   "pygments_lexer": "ipython3",
   "version": "3.9.16"
  },
  "orig_nbformat": 4
 },
 "nbformat": 4,
 "nbformat_minor": 2
}
