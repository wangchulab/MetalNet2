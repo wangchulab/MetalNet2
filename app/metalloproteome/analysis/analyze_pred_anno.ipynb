{
 "cells": [
  {
   "cell_type": "code",
   "execution_count": 1,
   "metadata": {},
   "outputs": [],
   "source": [
    "import pandas as pd\n",
    "import os\n",
    "from Bio import SeqIO\n",
    "species = ['human', 'worm', 'yeast', 'zebrafish']\n",
    "anno_file_path = \"~/database/uniprot/swiss/metal_anno\"\n",
    "fasta_file_path = \"~/database/uniprot/fasta\""
   ]
  },
  {
   "cell_type": "code",
   "execution_count": 2,
   "metadata": {},
   "outputs": [],
   "source": [
    "def get_all_proteins(fasta_file):\n",
    "    uniprots = set()\n",
    "    fasta_file = os.path.expanduser(fasta_file)\n",
    "    for r in SeqIO.parse(fasta_file, \"fasta\"):\n",
    "        uniprots.add(r.id.split(\"|\")[1])\n",
    "    return uniprots\n",
    "\n",
    "def get_anno_proteins(df):\n",
    "    return set(df['uniprot'])\n",
    "\n",
    "def get_anno_residues(df):\n",
    "    return set(zip(df['uniprot'], df['resi'], df['resi_seq_num']))\n",
    "\n",
    "def get_pred_proteins(df):\n",
    "    return set(df['seq_id'])\n",
    "\n",
    "def get_pred_residues(df):\n",
    "    residues = set()\n",
    "    for _, row in df.iterrows():\n",
    "        resi_1, resi_seq_posi_1 = row['resi_1'], row['resi_seq_posi_1']\n",
    "        resi_2, resi_seq_posi_2 = row['resi_2'], row['resi_seq_posi_2']\n",
    "        seq_id = row['seq_id']\n",
    "        \n",
    "        residues.add((seq_id, resi_1, resi_seq_posi_1 + 1))\n",
    "        residues.add((seq_id, resi_2, resi_seq_posi_2 + 1))\n",
    "    return residues\n",
    "\n",
    "\n",
    "def calc_metrics_for_species(fasta_file, pred_file, anno_file):\n",
    "    all_proteins = get_all_proteins(fasta_file)\n",
    "    \n",
    "    df_pred = pd.read_csv(pred_file, sep=\"\\t\")\n",
    "    df_pred = df_pred[df_pred['filter_by_graph'] == 1]\n",
    "    df_pred = df_pred[df_pred['seq_id'].map(lambda x: x in all_proteins)]\n",
    "    df_anno = pd.read_csv(anno_file, sep=\"\\t\")\n",
    "    df_anno = df_anno[df_anno['uniprot'].map(lambda x: x in all_proteins)]\n",
    "    \n",
    "    mbps_anno = get_anno_proteins(df_anno)\n",
    "    mbps_pred = get_pred_proteins(df_pred)\n",
    "    residues_anno = get_anno_residues(df_anno)\n",
    "    residues_pred = get_pred_residues(df_pred)\n",
    "    \n",
    "    resi_inter = residues_anno & residues_pred\n",
    "    mbps_inter = set([i[0] for i in resi_inter]) # at least one common residue\n",
    "    \n",
    "    return {\n",
    "        \"Predicted by Metalnet\": len(mbps_pred) / len(all_proteins),\n",
    "        \"Annotated by Uniprot\": len(mbps_anno) / len(all_proteins),\n",
    "        \"Intersection\": len(mbps_inter) / len(all_proteins)\n",
    "    }"
   ]
  },
  {
   "cell_type": "code",
   "execution_count": 3,
   "metadata": {},
   "outputs": [
    {
     "name": "stdout",
     "output_type": "stream",
     "text": [
      "human\n",
      "{'Predicted by Metalnet': 0.22869911590401243, 'Annotated by Uniprot': 0.09530749052754299, 'Intersection': 0.06640435247255416}\n",
      "worm\n",
      "{'Predicted by Metalnet': 0.17143289453775154, 'Annotated by Uniprot': 0.024965955515206535, 'Intersection': 0.01795531346144147}\n",
      "yeast\n",
      "{'Predicted by Metalnet': 0.19323432343234323, 'Annotated by Uniprot': 0.07953795379537953, 'Intersection': 0.05396039603960396}\n",
      "zebrafish\n",
      "{'Predicted by Metalnet': 0.1952836298525658, 'Annotated by Uniprot': 0.020572212274753324, 'Intersection': 0.014933902243895006}\n"
     ]
    }
   ],
   "source": [
    "pc_anno = []\n",
    "pc_pred = []\n",
    "pc_inter = []\n",
    "for s in species:\n",
    "    m = calc_metrics_for_species(\n",
    "        fasta_file=f\"{fasta_file_path}/{s}.fasta\", # from https://www.uniprot.org/proteomes\n",
    "        pred_file=f\"../{s}_pred_mbps.tsv\", \n",
    "        anno_file=f\"{anno_file_path}/{s}_metal_anno.csv\")\n",
    "    pc_anno.append(m['Annotated by Uniprot'])\n",
    "    pc_pred.append(m['Predicted by Metalnet'])\n",
    "    pc_inter.append(m['Intersection'])\n",
    "    print(s)\n",
    "    print(m)"
   ]
  },
  {
   "cell_type": "code",
   "execution_count": 4,
   "metadata": {},
   "outputs": [
    {
     "data": {
      "text/plain": [
       "Text(0, 0.5, 'Fraction of proteins in proteome')"
      ]
     },
     "execution_count": 4,
     "metadata": {},
     "output_type": "execute_result"
    },
    {
     "data": {
      "text/plain": [
       "Text(0.5, 0, 'Species')"
      ]
     },
     "execution_count": 4,
     "metadata": {},
     "output_type": "execute_result"
    },
    {
     "data": {
      "text/plain": [
       "<BarContainer object of 4 artists>"
      ]
     },
     "execution_count": 4,
     "metadata": {},
     "output_type": "execute_result"
    },
    {
     "data": {
      "text/plain": [
       "<BarContainer object of 4 artists>"
      ]
     },
     "execution_count": 4,
     "metadata": {},
     "output_type": "execute_result"
    },
    {
     "data": {
      "text/plain": [
       "<BarContainer object of 4 artists>"
      ]
     },
     "execution_count": 4,
     "metadata": {},
     "output_type": "execute_result"
    },
    {
     "data": {
      "text/plain": [
       "<BarContainer object of 4 artists>"
      ]
     },
     "execution_count": 4,
     "metadata": {},
     "output_type": "execute_result"
    },
    {
     "data": {
      "text/plain": [
       "([<matplotlib.axis.XTick at 0x7fa95f010fa0>,\n",
       "  <matplotlib.axis.XTick at 0x7fa95f010f70>,\n",
       "  <matplotlib.axis.XTick at 0x7fa95f010a60>,\n",
       "  <matplotlib.axis.XTick at 0x7fa95ef2f430>],\n",
       " [Text(0, 0, 'human'),\n",
       "  Text(1, 0, 'worm'),\n",
       "  Text(2, 0, 'yeast'),\n",
       "  Text(3, 0, 'zebrafish')])"
      ]
     },
     "execution_count": 4,
     "metadata": {},
     "output_type": "execute_result"
    },
    {
     "data": {
      "text/plain": [
       "([<matplotlib.axis.YTick at 0x7fa95f025ca0>,\n",
       "  <matplotlib.axis.YTick at 0x7fa95f025640>,\n",
       "  <matplotlib.axis.YTick at 0x7fa95f0106d0>,\n",
       "  <matplotlib.axis.YTick at 0x7fa95ef3b730>,\n",
       "  <matplotlib.axis.YTick at 0x7fa95ef43220>],\n",
       " [Text(0, 0.0, '0.0'),\n",
       "  Text(0, 0.1, '0.1'),\n",
       "  Text(0, 0.2, '0.2'),\n",
       "  Text(0, 0.30000000000000004, '0.3'),\n",
       "  Text(0, 0.4, '0.4')])"
      ]
     },
     "execution_count": 4,
     "metadata": {},
     "output_type": "execute_result"
    },
    {
     "data": {
      "text/plain": [
       "(0.0, 0.4)"
      ]
     },
     "execution_count": 4,
     "metadata": {},
     "output_type": "execute_result"
    },
    {
     "data": {
      "text/plain": [
       "<matplotlib.legend.Legend at 0x7fa95ef82c40>"
      ]
     },
     "execution_count": 4,
     "metadata": {},
     "output_type": "execute_result"
    },
    {
     "data": {
      "image/png": "[encoded data removed]",
      "text/plain": [
       "<Figure size 640x480 with 1 Axes>"
      ]
     },
     "metadata": {},
     "output_type": "display_data"
    }
   ],
   "source": [
    "import matplotlib.pyplot as plt\n",
    "import numpy as np\n",
    "\n",
    "plt.style.use(f\"{PROJECT_DIR}/asset/metalnet.mplstyle\")\n",
    "\n",
    "plt.ylabel(\"Fraction of proteins in proteome\")\n",
    "plt.xlabel(\"Species\")\n",
    "\n",
    "ax = plt.gca()\n",
    "ax.spines['top'].set_visible(False)\n",
    "ax.spines['right'].set_visible(False)\n",
    "    \n",
    "coor_x = np.arange(len(species))\n",
    "width = 0.3\n",
    "plt.bar(coor_x - width / 2, pc_pred, width=width)\n",
    "plt.bar(coor_x + width / 2, pc_anno, width=width)\n",
    "\n",
    "plt.bar(coor_x - width / 2, pc_inter, width=width, alpha=1, hatch='//', edgecolor=\"white\", color=\"#1f77b4\")\n",
    "plt.bar(coor_x + width / 2, pc_inter, width=width, alpha=1, hatch='//', edgecolor=\"white\", color='#ff7f0e')\n",
    "plt.xticks(coor_x, labels=species)\n",
    "plt.yticks(np.arange(0, 0.5, 0.1))\n",
    "plt.ylim(bottom=0, top=0.4)\n",
    "\n",
    "plt.legend(labels=['Predicted by MetalNet2',\n",
    "                   'Annotated in UniProt'],\n",
    "           loc='upper right',\n",
    "           bbox_to_anchor=(1,1))\n",
    "plt.savefig(\"./fig/comparison_anno_pred.pdf\", bbox_inches=\"tight\", transparent=True)"
   ]
  },
  {
   "cell_type": "markdown",
   "metadata": {},
   "source": [
    "## updated result for prokaryotic species"
   ]
  },
  {
   "cell_type": "code",
   "execution_count": 4,
   "metadata": {},
   "outputs": [
    {
     "name": "stderr",
     "output_type": "stream",
     "text": [
      "/tmp/ipykernel_23483/4262706507.py:32: DtypeWarning: Columns (10) have mixed types. Specify dtype option on import or set low_memory=False.\n",
      "  df_pred = pd.read_csv(pred_file, sep=\"\\t\")\n"
     ]
    },
    {
     "name": "stdout",
     "output_type": "stream",
     "text": [
      "ecoli\n",
      "{'Predicted by Metalnet': 0.2502838973427209, 'Annotated by Uniprot': 0.1287758346581876, 'Intersection': 0.10084033613445378}\n"
     ]
    },
    {
     "name": "stderr",
     "output_type": "stream",
     "text": [
      "/tmp/ipykernel_23483/4262706507.py:32: DtypeWarning: Columns (10) have mixed types. Specify dtype option on import or set low_memory=False.\n",
      "  df_pred = pd.read_csv(pred_file, sep=\"\\t\")\n"
     ]
    },
    {
     "name": "stdout",
     "output_type": "stream",
     "text": [
      "bacsu\n",
      "{'Predicted by Metalnet': 0.22793427230046948, 'Annotated by Uniprot': 0.09295774647887324, 'Intersection': 0.07183098591549296}\n",
      "sacs2\n",
      "{'Predicted by Metalnet': 0.2863466121893088, 'Annotated by Uniprot': 0.052434456928838954, 'Intersection': 0.03881511746680286}\n",
      "halsa\n",
      "{'Predicted by Metalnet': 0.2752785802723896, 'Annotated by Uniprot': 0.053652496904663644, 'Intersection': 0.041271151465125874}\n"
     ]
    },
    {
     "name": "stderr",
     "output_type": "stream",
     "text": [
      "/tmp/ipykernel_23483/4262706507.py:32: DtypeWarning: Columns (10) have mixed types. Specify dtype option on import or set low_memory=False.\n",
      "  df_pred = pd.read_csv(pred_file, sep=\"\\t\")\n"
     ]
    }
   ],
   "source": [
    "species = ['ecoli', 'bacsu', 'sacs2', 'halsa']\n",
    "pred_file_path = \"~/database/metalnet/prediction/\"\n",
    "\n",
    "pc_anno = []\n",
    "pc_pred = []\n",
    "pc_inter = []\n",
    "for s in species:\n",
    "    m = calc_metrics_for_species(\n",
    "        fasta_file=f\"{fasta_file_path}/{s}.fasta\", # from https://www.uniprot.org/proteomes\n",
    "        pred_file=f\"{pred_file_path}/{s}_pred_pairs.tsv\", \n",
    "        anno_file=f\"{anno_file_path}/{s}_metal_anno.csv\")\n",
    "    pc_anno.append(m['Annotated by Uniprot'])\n",
    "    pc_pred.append(m['Predicted by Metalnet'])\n",
    "    pc_inter.append(m['Intersection'])\n",
    "    print(s)\n",
    "    print(m)"
   ]
  },
  {
   "cell_type": "code",
   "execution_count": 5,
   "metadata": {},
   "outputs": [
    {
     "data": {
      "text/plain": [
       "Text(0, 0.5, 'Fraction of proteins in proteome')"
      ]
     },
     "execution_count": 5,
     "metadata": {},
     "output_type": "execute_result"
    },
    {
     "data": {
      "text/plain": [
       "Text(0.5, 0, 'Species')"
      ]
     },
     "execution_count": 5,
     "metadata": {},
     "output_type": "execute_result"
    },
    {
     "data": {
      "text/plain": [
       "<BarContainer object of 4 artists>"
      ]
     },
     "execution_count": 5,
     "metadata": {},
     "output_type": "execute_result"
    },
    {
     "data": {
      "text/plain": [
       "<BarContainer object of 4 artists>"
      ]
     },
     "execution_count": 5,
     "metadata": {},
     "output_type": "execute_result"
    },
    {
     "data": {
      "text/plain": [
       "<BarContainer object of 4 artists>"
      ]
     },
     "execution_count": 5,
     "metadata": {},
     "output_type": "execute_result"
    },
    {
     "data": {
      "text/plain": [
       "<BarContainer object of 4 artists>"
      ]
     },
     "execution_count": 5,
     "metadata": {},
     "output_type": "execute_result"
    },
    {
     "data": {
      "text/plain": [
       "([<matplotlib.axis.XTick at 0x7f3c290cc160>,\n",
       "  <matplotlib.axis.XTick at 0x7f3c290cc130>,\n",
       "  <matplotlib.axis.XTick at 0x7f3c290b0fd0>,\n",
       "  <matplotlib.axis.XTick at 0x7f3c28f7f700>],\n",
       " [Text(0, 0, 'ecoli'),\n",
       "  Text(1, 0, 'bacsu'),\n",
       "  Text(2, 0, 'sacs2'),\n",
       "  Text(3, 0, 'halsa')])"
      ]
     },
     "execution_count": 5,
     "metadata": {},
     "output_type": "execute_result"
    },
    {
     "data": {
      "text/plain": [
       "([<matplotlib.axis.YTick at 0x7f3c290cce20>,\n",
       "  <matplotlib.axis.YTick at 0x7f3c290cc7c0>,\n",
       "  <matplotlib.axis.YTick at 0x7f3c290b0ac0>,\n",
       "  <matplotlib.axis.YTick at 0x7f3c28f7c820>,\n",
       "  <matplotlib.axis.YTick at 0x7f3c28f8e310>],\n",
       " [Text(0, 0.0, '0.0'),\n",
       "  Text(0, 0.1, '0.1'),\n",
       "  Text(0, 0.2, '0.2'),\n",
       "  Text(0, 0.30000000000000004, '0.3'),\n",
       "  Text(0, 0.4, '0.4')])"
      ]
     },
     "execution_count": 5,
     "metadata": {},
     "output_type": "execute_result"
    },
    {
     "data": {
      "text/plain": [
       "(0.0, 0.4)"
      ]
     },
     "execution_count": 5,
     "metadata": {},
     "output_type": "execute_result"
    },
    {
     "data": {
      "text/plain": [
       "<matplotlib.legend.Legend at 0x7f3c290b0880>"
      ]
     },
     "execution_count": 5,
     "metadata": {},
     "output_type": "execute_result"
    },
    {
     "data": {
      "image/png": "[encoded data removed]",
      "text/plain": [
       "<Figure size 640x480 with 1 Axes>"
      ]
     },
     "metadata": {},
     "output_type": "display_data"
    }
   ],
   "source": [
    "import matplotlib.pyplot as plt\n",
    "import numpy as np\n",
    "\n",
    "plt.style.use(f\"{PROJECT_DIR}/asset/metalnet.mplstyle\")\n",
    "\n",
    "plt.ylabel(\"Fraction of proteins in proteome\")\n",
    "plt.xlabel(\"Species\")\n",
    "\n",
    "ax = plt.gca()\n",
    "ax.spines['top'].set_visible(False)\n",
    "ax.spines['right'].set_visible(False)\n",
    "    \n",
    "coor_x = np.arange(len(species))\n",
    "width = 0.3\n",
    "plt.bar(coor_x - width / 2, pc_pred, width=width)\n",
    "plt.bar(coor_x + width / 2, pc_anno, width=width)\n",
    "\n",
    "plt.bar(coor_x - width / 2, pc_inter, width=width, alpha=1, hatch='//', edgecolor=\"white\", color=\"#1f77b4\")\n",
    "plt.bar(coor_x + width / 2, pc_inter, width=width, alpha=1, hatch='//', edgecolor=\"white\", color='#ff7f0e')\n",
    "plt.xticks(coor_x, labels=species)\n",
    "plt.yticks(np.arange(0, 0.5, 0.1))\n",
    "plt.ylim(bottom=0, top=0.4)\n",
    "\n",
    "plt.legend(labels=['Predicted by MetalNet2',\n",
    "                   'Annotated in UniProt'],\n",
    "           loc='upper right',\n",
    "           bbox_to_anchor=(1,1))\n",
    "plt.savefig(\"./fig/comparison_anno_pred_prokaryotes.pdf\", bbox_inches=\"tight\", transparent=True)"
   ]
  },
  {
   "cell_type": "code",
   "execution_count": null,
   "metadata": {},
   "outputs": [],
   "source": []
  }
 ],
 "metadata": {
  "kernelspec": {
   "display_name": "dl",
   "language": "python",
   "name": "python3"
  },
  "language_info": {
   "codemirror_mode": {
    "name": "ipython",
    "version": 3
   },
   "file_extension": ".py",
   "mimetype": "text/x-python",
   "name": "python",
   "nbconvert_exporter": "python",
   "pygments_lexer": "ipython3",
   "version": "3.9.16"
  },
  "orig_nbformat": 4
 },
 "nbformat": 4,
 "nbformat_minor": 2
}
