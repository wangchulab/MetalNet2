{
 "cells": [
  {
   "cell_type": "code",
   "execution_count": 3,
   "metadata": {},
   "outputs": [],
   "source": [
    "import pandas as pd\n",
    "import os\n",
    "from Bio import SeqIO\n",
    "from Bio.SeqRecord import SeqRecord"
   ]
  },
  {
   "cell_type": "markdown",
   "metadata": {},
   "source": [
    "## 0. predicted mbps data"
   ]
  },
  {
   "cell_type": "code",
   "execution_count": 4,
   "metadata": {},
   "outputs": [
    {
     "data": {
      "text/plain": [
       "15645"
      ]
     },
     "execution_count": 4,
     "metadata": {},
     "output_type": "execute_result"
    },
    {
     "data": {
      "text/html": [
       "<div>\n",
       "<style scoped>\n",
       "    .dataframe tbody tr th:only-of-type {\n",
       "        vertical-align: middle;\n",
       "    }\n",
       "\n",
       "    .dataframe tbody tr th {\n",
       "        vertical-align: top;\n",
       "    }\n",
       "\n",
       "    .dataframe thead th {\n",
       "        text-align: right;\n",
       "    }\n",
       "</style>\n",
       "<table border=\"1\" class=\"dataframe\">\n",
       "  <thead>\n",
       "    <tr style=\"text-align: right;\">\n",
       "      <th></th>\n",
       "      <th>species</th>\n",
       "      <th>uniprot</th>\n",
       "    </tr>\n",
       "  </thead>\n",
       "  <tbody>\n",
       "    <tr>\n",
       "      <th>count</th>\n",
       "      <td>15645</td>\n",
       "      <td>15645</td>\n",
       "    </tr>\n",
       "    <tr>\n",
       "      <th>unique</th>\n",
       "      <td>4</td>\n",
       "      <td>15645</td>\n",
       "    </tr>\n",
       "    <tr>\n",
       "      <th>top</th>\n",
       "      <td>zebrafish</td>\n",
       "      <td>A0A8M1RFD5</td>\n",
       "    </tr>\n",
       "    <tr>\n",
       "      <th>freq</th>\n",
       "      <td>6358</td>\n",
       "      <td>1</td>\n",
       "    </tr>\n",
       "  </tbody>\n",
       "</table>\n",
       "</div>"
      ],
      "text/plain": [
       "          species     uniprot\n",
       "count       15645       15645\n",
       "unique          4       15645\n",
       "top     zebrafish  A0A8M1RFD5\n",
       "freq         6358           1"
      ]
     },
     "execution_count": 4,
     "metadata": {},
     "output_type": "execute_result"
    }
   ],
   "source": [
    "species = ['human', 'worm', 'yeast', 'zebrafish']\n",
    "pred_file_path = \"../\"\n",
    "anno_file_path = \"~/database/uniprot/swiss/metal_anno\"\n",
    "swiss_file_path = \"~/database/uniprot/swiss\"\n",
    "fasta_file_path = \"~/database/uniprot/fasta\"\n",
    "\n",
    "pred_mbps = []\n",
    "pred_seqs = []\n",
    "for i in species:\n",
    "    df_pred = pd.read_table(os.path.join(pred_file_path, f\"{i}_pred_mbps.tsv\"))\n",
    "    pred_uniprots = set(df_pred['seq_id'])\n",
    "    for j in pred_uniprots:\n",
    "        pred_mbps.append({'species': i, \"uniprot\": j})\n",
    "        \n",
    "    fasta_file = os.path.expanduser(os.path.join(fasta_file_path, f\"{i}_for_msa.fasta\"))\n",
    "    for j in SeqIO.parse(fasta_file, \"fasta\"):\n",
    "        uniprot = j.id\n",
    "        if uniprot in pred_uniprots:\n",
    "            pred_seqs.append(SeqRecord(seq=j.seq, id=uniprot, description=\"\"))\n",
    "SeqIO.write(pred_seqs, \"./tmp/pred_mbps.fasta\", \"fasta\")\n",
    "df_pred = pd.DataFrame(pred_mbps)\n",
    "df_pred.describe()"
   ]
  },
  {
   "cell_type": "markdown",
   "metadata": {},
   "source": [
    "## 1. structural evidence part"
   ]
  },
  {
   "cell_type": "markdown",
   "metadata": {},
   "source": [
    "### 1.1 collect mbps from pdb (using new conditions, see \"./pred_evidence.sh\")"
   ]
  },
  {
   "cell_type": "markdown",
   "metadata": {},
   "source": [
    "### 1.2 annotate pdb polymer at resi level "
   ]
  },
  {
   "cell_type": "code",
   "execution_count": 3,
   "metadata": {},
   "outputs": [
    {
     "data": {
      "text/plain": [
       "76703"
      ]
     },
     "execution_count": 3,
     "metadata": {},
     "output_type": "execute_result"
    }
   ],
   "source": [
    "df = pd.read_table(\"~/database/pdb/rcsb_20230430/polymer_id_to_chain_ids.tsv\")\n",
    "chain_to_polymer = dict()\n",
    "for _, row in df.iterrows():\n",
    "    pdb = row['pdb']\n",
    "    polymer_id = row['polymer_id']\n",
    "    chain_ids = eval(row['chain_ids'])\n",
    "    for i in chain_ids:\n",
    "        chain_to_polymer[(pdb, i)] = (pdb, polymer_id)\n",
    "\n",
    "# annotation        \n",
    "df = pd.read_table(\"./tmp/exp_metal_sites.tsv\", keep_default_na=False)\n",
    "metal_sites = []\n",
    "for site, df_site in df.groupby(['pdb', 'metal_chain', 'metal_pdb_seq_num', 'metal_resi']):\n",
    "    pdb, metal_resi = site[0], site[-1]\n",
    "    for _, row in df_site.iterrows():\n",
    "        resi = row['resi']\n",
    "        resi_chain = row['resi_chain']\n",
    "        resi_ndb_seq_can_num = row['resi_ndb_seq_can_num']\n",
    "        _, resi_polymer = chain_to_polymer[(pdb, resi_chain)]\n",
    "        metal_sites.append({ # binding residues in all chains\n",
    "            \"pdb\": pdb,\n",
    "            \"metal_resi\": metal_resi,\n",
    "            \"resi\": resi,\n",
    "            \"resi_polymer\": resi_polymer,\n",
    "            \"resi_ndb_seq_can_num\": resi_ndb_seq_can_num,\n",
    "        })\n",
    "df_metal_sites = pd.DataFrame(metal_sites)\n",
    "df_metal_sites.drop_duplicates(inplace=True)\n",
    "df_metal_sites.to_csv(\"./tmp/exp_metal_polymers.tsv\", sep=\"\\t\", index=None)\n",
    "\n",
    "# seq fasta\n",
    "metal_polymers = set(zip(df_metal_sites['pdb'], df_metal_sites['resi_polymer']))\n",
    "added_polymers = set()\n",
    "seqs = []\n",
    "for i in SeqIO.parse(\"./tmp/exp_mbps.fasta\", \"fasta\"):\n",
    "    pdb, chain = i.id.split(\"_\")\n",
    "    pdb, polymer = chain_to_polymer[(pdb, chain)]\n",
    "    if (pdb, polymer) in metal_polymers and (pdb, polymer) not in added_polymers:\n",
    "        added_polymers.add((pdb, polymer))\n",
    "        seqs.append(SeqRecord(seq=i.seq, id=\"_\".join([pdb, str(polymer)]), description=\"\"))\n",
    "assert added_polymers == metal_polymers\n",
    "SeqIO.write(seqs, \"./tmp/exp_metal_polymers.fasta\", \"fasta\")"
   ]
  },
  {
   "cell_type": "markdown",
   "metadata": {},
   "source": [
    "### 1.3 prepare blast db for blastp, see \"./pred_evidence.sh\""
   ]
  },
  {
   "cell_type": "markdown",
   "metadata": {},
   "source": [
    "### 1.4 use blastp to search homo metal polymers, see \"./pred_evidence.sh\""
   ]
  },
  {
   "cell_type": "markdown",
   "metadata": {},
   "source": [
    "### 1.5 align seq and select the corresponding pdb structure with the most aligned metal residue"
   ]
  },
  {
   "cell_type": "code",
   "execution_count": 5,
   "metadata": {},
   "outputs": [],
   "source": [
    "from Bio.SeqUtils import seq1\n",
    "uniprot_to_residues = dict()\n",
    "for i in species:\n",
    "    df_pred_sp = pd.read_table(f\"../{i}_pred_mbps.tsv\")\n",
    "    for _, row in df_pred_sp.iterrows():\n",
    "        resi_1, resi_seq_posi_1 = row['resi_1'], row['resi_seq_posi_1']\n",
    "        resi_2, resi_seq_posi_2 = row['resi_2'], row['resi_seq_posi_2']\n",
    "        seq_id = row['seq_id']\n",
    "        if seq_id not in uniprot_to_residues.keys():\n",
    "            uniprot_to_residues[seq_id] = set([(resi_1, resi_seq_posi_1 + 1), (resi_2, resi_seq_posi_2 + 1)])\n",
    "        else:\n",
    "            uniprot_to_residues[seq_id].add((resi_1, resi_seq_posi_1 + 1))\n",
    "            uniprot_to_residues[seq_id].add((resi_2, resi_seq_posi_2 + 1))\n",
    "            \n",
    "polymers_to_residues = dict()\n",
    "df_anno = pd.read_table(\"./tmp/exp_metal_polymers.tsv\")\n",
    "for anno_uniprot, df in df_anno.groupby(['pdb', 'resi_polymer']):\n",
    "    pdb, polymer = anno_uniprot\n",
    "    id = \"_\".join([pdb, str(polymer)])\n",
    "    residues = set()\n",
    "    for _, row in df.iterrows():\n",
    "        residues.add((seq1(row['resi']), row['resi_ndb_seq_can_num']))\n",
    "    polymers_to_residues[id] = residues\n",
    "\n",
    "uniprot_to_seq = dict()\n",
    "for i in SeqIO.parse(\"./tmp/pred_mbps.fasta\", \"fasta\"):\n",
    "    uniprot_to_seq[i.id] = str(i.seq)\n",
    "\n",
    "polymer_to_seq = dict()\n",
    "for i in SeqIO.parse(\"./tmp/exp_metal_polymers.fasta\", \"fasta\"):\n",
    "    polymer_to_seq[i.id] = str(i.seq)\n"
   ]
  },
  {
   "cell_type": "code",
   "execution_count": 3,
   "metadata": {},
   "outputs": [
    {
     "data": {
      "text/html": [
       "<div>\n",
       "<style scoped>\n",
       "    .dataframe tbody tr th:only-of-type {\n",
       "        vertical-align: middle;\n",
       "    }\n",
       "\n",
       "    .dataframe tbody tr th {\n",
       "        vertical-align: top;\n",
       "    }\n",
       "\n",
       "    .dataframe thead th {\n",
       "        text-align: right;\n",
       "    }\n",
       "</style>\n",
       "<table border=\"1\" class=\"dataframe\">\n",
       "  <thead>\n",
       "    <tr style=\"text-align: right;\">\n",
       "      <th></th>\n",
       "      <th>uniprot</th>\n",
       "      <th>pdb</th>\n",
       "      <th>2</th>\n",
       "      <th>3</th>\n",
       "      <th>4</th>\n",
       "      <th>5</th>\n",
       "      <th>6</th>\n",
       "      <th>7</th>\n",
       "      <th>8</th>\n",
       "      <th>9</th>\n",
       "      <th>evalue</th>\n",
       "      <th>bitscore</th>\n",
       "    </tr>\n",
       "  </thead>\n",
       "  <tbody>\n",
       "    <tr>\n",
       "      <th>0</th>\n",
       "      <td>Q9UIX4</td>\n",
       "      <td>7ukh_1</td>\n",
       "      <td>33.867</td>\n",
       "      <td>437</td>\n",
       "      <td>236</td>\n",
       "      <td>12</td>\n",
       "      <td>58</td>\n",
       "      <td>483</td>\n",
       "      <td>31</td>\n",
       "      <td>425</td>\n",
       "      <td>6.530000e-70</td>\n",
       "      <td>233.0</td>\n",
       "    </tr>\n",
       "    <tr>\n",
       "      <th>1</th>\n",
       "      <td>Q9UIX4</td>\n",
       "      <td>7f0j_1</td>\n",
       "      <td>33.867</td>\n",
       "      <td>437</td>\n",
       "      <td>236</td>\n",
       "      <td>12</td>\n",
       "      <td>58</td>\n",
       "      <td>483</td>\n",
       "      <td>31</td>\n",
       "      <td>425</td>\n",
       "      <td>8.120000e-69</td>\n",
       "      <td>233.0</td>\n",
       "    </tr>\n",
       "    <tr>\n",
       "      <th>2</th>\n",
       "      <td>Q9UIX4</td>\n",
       "      <td>7phh_1</td>\n",
       "      <td>32.618</td>\n",
       "      <td>466</td>\n",
       "      <td>229</td>\n",
       "      <td>11</td>\n",
       "      <td>60</td>\n",
       "      <td>467</td>\n",
       "      <td>5</td>\n",
       "      <td>443</td>\n",
       "      <td>5.410000e-64</td>\n",
       "      <td>217.0</td>\n",
       "    </tr>\n",
       "    <tr>\n",
       "      <th>3</th>\n",
       "      <td>Q9UIX4</td>\n",
       "      <td>7phk_1</td>\n",
       "      <td>32.618</td>\n",
       "      <td>466</td>\n",
       "      <td>229</td>\n",
       "      <td>11</td>\n",
       "      <td>60</td>\n",
       "      <td>467</td>\n",
       "      <td>5</td>\n",
       "      <td>443</td>\n",
       "      <td>5.410000e-64</td>\n",
       "      <td>217.0</td>\n",
       "    </tr>\n",
       "    <tr>\n",
       "      <th>4</th>\n",
       "      <td>Q9UIX4</td>\n",
       "      <td>7phl_1</td>\n",
       "      <td>32.618</td>\n",
       "      <td>466</td>\n",
       "      <td>229</td>\n",
       "      <td>11</td>\n",
       "      <td>60</td>\n",
       "      <td>467</td>\n",
       "      <td>5</td>\n",
       "      <td>443</td>\n",
       "      <td>5.410000e-64</td>\n",
       "      <td>217.0</td>\n",
       "    </tr>\n",
       "  </tbody>\n",
       "</table>\n",
       "</div>"
      ],
      "text/plain": [
       "  uniprot     pdb       2    3    4   5   6    7   8    9        evalue  \\\n",
       "0  Q9UIX4  7ukh_1  33.867  437  236  12  58  483  31  425  6.530000e-70   \n",
       "1  Q9UIX4  7f0j_1  33.867  437  236  12  58  483  31  425  8.120000e-69   \n",
       "2  Q9UIX4  7phh_1  32.618  466  229  11  60  467   5  443  5.410000e-64   \n",
       "3  Q9UIX4  7phk_1  32.618  466  229  11  60  467   5  443  5.410000e-64   \n",
       "4  Q9UIX4  7phl_1  32.618  466  229  11  60  467   5  443  5.410000e-64   \n",
       "\n",
       "   bitscore  \n",
       "0     233.0  \n",
       "1     233.0  \n",
       "2     217.0  \n",
       "3     217.0  \n",
       "4     217.0  "
      ]
     },
     "execution_count": 3,
     "metadata": {},
     "output_type": "execute_result"
    }
   ],
   "source": [
    "df_blast = pd.read_table(\"./tmp/pred_mbps_exp.blast\", header=None)\n",
    "df_blast.rename(columns={0: \"uniprot\", 1: \"pdb\", 10: \"evalue\", 11: \"bitscore\"}, inplace=True)\n",
    "df_blast.head()"
   ]
  },
  {
   "cell_type": "code",
   "execution_count": 8,
   "metadata": {},
   "outputs": [],
   "source": [
    "import sys\n",
    "sys.path.append(f\"{PROJECT_DIR}/dataset/collect/scripts/utils/\")\n",
    "from mmcif_utils import align_two_seq\n",
    "\n",
    "ched = {'C', 'H', 'E', 'D'}\n",
    "def collect_matched_residues(uniprot, pdb_polymer):\n",
    "    uni_seq = uniprot_to_seq[uniprot]\n",
    "    poly_seq = polymer_to_seq[pdb_polymer]\n",
    "    \n",
    "    uni_residues = uniprot_to_residues[uniprot]\n",
    "    poly_residues = polymers_to_residues[pdb_polymer]\n",
    "    \n",
    "    align_dict = align_two_seq(uni_seq, poly_seq)\n",
    "    metal_matched_dict = dict()\n",
    "    for uni_resi, uni_seq_num in uni_residues:\n",
    "        uni_seq_posi = uni_seq_num - 1\n",
    "        if uni_seq_posi in align_dict.keys():\n",
    "            poly_seq_num = align_dict[uni_seq_posi] + 1\n",
    "            for r in ched:\n",
    "                if (r, poly_seq_num) in poly_residues:\n",
    "                    metal_matched_dict[(uni_resi, uni_seq_num)] = (r, poly_seq_num)\n",
    "                    break\n",
    "    return metal_matched_dict\n",
    "\n",
    "records = []\n",
    "for uniprot, df in df_blast.groupby(['uniprot']):\n",
    "    cur_matched = dict()\n",
    "    df_ = df.sort_values(by=['bitscore'], ascending=False)\n",
    "    for _, row in df_.iterrows():\n",
    "        anno_uniprot = row['pdb']\n",
    "        evalue = row['evalue']\n",
    "        result = collect_matched_residues(uniprot, anno_uniprot)\n",
    "        if len(result.keys()) != 0:\n",
    "            if \"mapper\" not in cur_matched.keys():\n",
    "                cur_matched['polymer'] = anno_uniprot\n",
    "                cur_matched['mapper'] = result\n",
    "                cur_matched['evalue'] = evalue\n",
    "            else:\n",
    "                if len(result.keys()) > len(cur_matched['mapper'].keys()):\n",
    "                    cur_matched['polymer'] = anno_uniprot\n",
    "                    cur_matched['mapper'] = result\n",
    "                    cur_matched['evalue'] = evalue\n",
    "    if \"polymer\" in cur_matched.keys():\n",
    "        records.append({\n",
    "            \"uniprot\": uniprot,\n",
    "            \"pdb_polymer\": cur_matched['polymer'],\n",
    "            \"evalue\": cur_matched['evalue'],\n",
    "            \"mapper\": cur_matched['mapper']\n",
    "        })\n",
    "pd.DataFrame(records).to_csv(\"pred_mbps_structural_evidence.tsv\", sep=\"\\t\", index=None)"
   ]
  },
  {
   "cell_type": "code",
   "execution_count": 9,
   "metadata": {},
   "outputs": [
    {
     "name": "stdout",
     "output_type": "stream",
     "text": [
      "10129\n",
      "9691\n"
     ]
    }
   ],
   "source": [
    "df = pd.read_table(\"pred_mbps_structural_evidence.tsv\")\n",
    "print(len(df))\n",
    "print(len(df[df['mapper'].map(lambda x: len(eval(x)) > 1)]))"
   ]
  },
  {
   "cell_type": "markdown",
   "metadata": {},
   "source": [
    "## 2. annotation evidence"
   ]
  },
  {
   "cell_type": "markdown",
   "metadata": {},
   "source": [
    "### 2.1 get seqs for proteins that have annotation evidence"
   ]
  },
  {
   "cell_type": "code",
   "execution_count": 11,
   "metadata": {},
   "outputs": [
    {
     "name": "stderr",
     "output_type": "stream",
     "text": [
      "/tmp/ipykernel_13511/339944797.py:1: DtypeWarning: Columns (5) have mixed types. Specify dtype option on import or set low_memory=False.\n",
      "  anno_uniprots = set(pd.read_table(os.path.join(anno_file_path, \"uniprot_sprot_metal_anno.tsv\"))['uniprot'])\n"
     ]
    },
    {
     "data": {
      "text/plain": [
       "91048"
      ]
     },
     "execution_count": 11,
     "metadata": {},
     "output_type": "execute_result"
    }
   ],
   "source": [
    "anno_uniprots = set(pd.read_table(os.path.join(anno_file_path, \"uniprot_sprot_metal_anno.tsv\"))['uniprot'])\n",
    "seqs = []\n",
    "for r in SeqIO.parse(os.path.expanduser(os.path.join(swiss_file_path, \"uniprot_sprot.dat\")), \"swiss\"):\n",
    "    if r.id in anno_uniprots:\n",
    "        seqs.append(SeqRecord(seq=r.seq, id=r.id, description=\"\"))\n",
    "SeqIO.write(seqs, \"./tmp/anno_metal_uniprots.fasta\", \"fasta\")"
   ]
  },
  {
   "cell_type": "markdown",
   "metadata": {},
   "source": [
    "### 2.2 prepare blast db for blastp, see\"./pred_evidence.sh\""
   ]
  },
  {
   "cell_type": "markdown",
   "metadata": {},
   "source": [
    "### 2.3 use blastp to search homo metal polymers, see \"./pred_evidence.sh\""
   ]
  },
  {
   "cell_type": "markdown",
   "metadata": {},
   "source": [
    "### 2.4 align seq and select the corresponding pdb structure with the most aligned metal residue"
   ]
  },
  {
   "cell_type": "code",
   "execution_count": 10,
   "metadata": {},
   "outputs": [
    {
     "name": "stderr",
     "output_type": "stream",
     "text": [
      "/tmp/ipykernel_6356/556188348.py:15: DtypeWarning: Columns (5) have mixed types. Specify dtype option on import or set low_memory=False.\n",
      "  df_anno = pd.read_table(os.path.join(anno_file_path, \"uniprot_sprot_metal_anno.tsv\"))\n"
     ]
    }
   ],
   "source": [
    "uniprot_to_residues = dict()\n",
    "for i in species:\n",
    "    df_pred_sp = pd.read_table(f\"../{i}_pred_mbps.tsv\")\n",
    "    for _, row in df_pred_sp.iterrows():\n",
    "        resi_1, resi_seq_posi_1 = row['resi_1'], row['resi_seq_posi_1']\n",
    "        resi_2, resi_seq_posi_2 = row['resi_2'], row['resi_seq_posi_2']\n",
    "        seq_id = row['seq_id']\n",
    "        if seq_id not in uniprot_to_residues.keys():\n",
    "            uniprot_to_residues[seq_id] = set([(resi_1, resi_seq_posi_1 + 1), (resi_2, resi_seq_posi_2 + 1)])\n",
    "        else:\n",
    "            uniprot_to_residues[seq_id].add((resi_1, resi_seq_posi_1 + 1))\n",
    "            uniprot_to_residues[seq_id].add((resi_2, resi_seq_posi_2 + 1))\n",
    "            \n",
    "anno_uniprot_to_residues = dict()\n",
    "df_anno = pd.read_table(os.path.join(anno_file_path, \"uniprot_sprot_metal_anno.tsv\"))\n",
    "for uniprot, df in df_anno.groupby(['uniprot']):\n",
    "    residues = set(zip(df['resi'], df['resi_seq_num']))\n",
    "    anno_uniprot_to_residues[uniprot] = residues\n",
    "\n",
    "uniprot_to_seq = dict()\n",
    "for i in SeqIO.parse(\"./tmp/pred_mbps.fasta\", \"fasta\"):\n",
    "    uniprot_to_seq[i.id] = str(i.seq)\n",
    "\n",
    "anno_uniprot_to_seq = dict()\n",
    "for i in SeqIO.parse(\"./tmp/anno_metal_uniprots.fasta\", \"fasta\"):\n",
    "    anno_uniprot_to_seq[i.id] = str(i.seq)"
   ]
  },
  {
   "cell_type": "code",
   "execution_count": 11,
   "metadata": {},
   "outputs": [
    {
     "data": {
      "text/html": [
       "<div>\n",
       "<style scoped>\n",
       "    .dataframe tbody tr th:only-of-type {\n",
       "        vertical-align: middle;\n",
       "    }\n",
       "\n",
       "    .dataframe tbody tr th {\n",
       "        vertical-align: top;\n",
       "    }\n",
       "\n",
       "    .dataframe thead th {\n",
       "        text-align: right;\n",
       "    }\n",
       "</style>\n",
       "<table border=\"1\" class=\"dataframe\">\n",
       "  <thead>\n",
       "    <tr style=\"text-align: right;\">\n",
       "      <th></th>\n",
       "      <th>uniprot</th>\n",
       "      <th>anno_uniprot</th>\n",
       "      <th>2</th>\n",
       "      <th>3</th>\n",
       "      <th>4</th>\n",
       "      <th>5</th>\n",
       "      <th>6</th>\n",
       "      <th>7</th>\n",
       "      <th>8</th>\n",
       "      <th>9</th>\n",
       "      <th>evalue</th>\n",
       "      <th>bitscore</th>\n",
       "    </tr>\n",
       "  </thead>\n",
       "  <tbody>\n",
       "    <tr>\n",
       "      <th>0</th>\n",
       "      <td>Q9UIX4</td>\n",
       "      <td>Q9NSA2</td>\n",
       "      <td>34.130</td>\n",
       "      <td>460</td>\n",
       "      <td>259</td>\n",
       "      <td>9</td>\n",
       "      <td>28</td>\n",
       "      <td>483</td>\n",
       "      <td>8</td>\n",
       "      <td>427</td>\n",
       "      <td>5.050000e-73</td>\n",
       "      <td>245.0</td>\n",
       "    </tr>\n",
       "    <tr>\n",
       "      <th>1</th>\n",
       "      <td>Q9UIX4</td>\n",
       "      <td>Q03719</td>\n",
       "      <td>34.988</td>\n",
       "      <td>423</td>\n",
       "      <td>234</td>\n",
       "      <td>9</td>\n",
       "      <td>65</td>\n",
       "      <td>483</td>\n",
       "      <td>42</td>\n",
       "      <td>427</td>\n",
       "      <td>1.680000e-71</td>\n",
       "      <td>241.0</td>\n",
       "    </tr>\n",
       "    <tr>\n",
       "      <th>2</th>\n",
       "      <td>Q9UIX4</td>\n",
       "      <td>Q52PG9</td>\n",
       "      <td>33.696</td>\n",
       "      <td>460</td>\n",
       "      <td>261</td>\n",
       "      <td>10</td>\n",
       "      <td>28</td>\n",
       "      <td>483</td>\n",
       "      <td>8</td>\n",
       "      <td>427</td>\n",
       "      <td>1.320000e-69</td>\n",
       "      <td>236.0</td>\n",
       "    </tr>\n",
       "    <tr>\n",
       "      <th>3</th>\n",
       "      <td>Q9UIX4</td>\n",
       "      <td>Q9NZV8</td>\n",
       "      <td>33.867</td>\n",
       "      <td>437</td>\n",
       "      <td>236</td>\n",
       "      <td>12</td>\n",
       "      <td>58</td>\n",
       "      <td>483</td>\n",
       "      <td>31</td>\n",
       "      <td>425</td>\n",
       "      <td>1.250000e-68</td>\n",
       "      <td>233.0</td>\n",
       "    </tr>\n",
       "    <tr>\n",
       "      <th>4</th>\n",
       "      <td>Q9UIX4</td>\n",
       "      <td>Q9Z0V2</td>\n",
       "      <td>33.867</td>\n",
       "      <td>437</td>\n",
       "      <td>236</td>\n",
       "      <td>12</td>\n",
       "      <td>58</td>\n",
       "      <td>483</td>\n",
       "      <td>31</td>\n",
       "      <td>425</td>\n",
       "      <td>1.570000e-68</td>\n",
       "      <td>233.0</td>\n",
       "    </tr>\n",
       "  </tbody>\n",
       "</table>\n",
       "</div>"
      ],
      "text/plain": [
       "  uniprot anno_uniprot       2    3    4   5   6    7   8    9        evalue  \\\n",
       "0  Q9UIX4       Q9NSA2  34.130  460  259   9  28  483   8  427  5.050000e-73   \n",
       "1  Q9UIX4       Q03719  34.988  423  234   9  65  483  42  427  1.680000e-71   \n",
       "2  Q9UIX4       Q52PG9  33.696  460  261  10  28  483   8  427  1.320000e-69   \n",
       "3  Q9UIX4       Q9NZV8  33.867  437  236  12  58  483  31  425  1.250000e-68   \n",
       "4  Q9UIX4       Q9Z0V2  33.867  437  236  12  58  483  31  425  1.570000e-68   \n",
       "\n",
       "   bitscore  \n",
       "0     245.0  \n",
       "1     241.0  \n",
       "2     236.0  \n",
       "3     233.0  \n",
       "4     233.0  "
      ]
     },
     "execution_count": 11,
     "metadata": {},
     "output_type": "execute_result"
    }
   ],
   "source": [
    "df_blast = pd.read_table(\"./tmp/pred_mbps_anno.blast\", header=None)\n",
    "df_blast.rename(columns={0: \"uniprot\", 1: \"anno_uniprot\", 10: \"evalue\", 11: \"bitscore\"}, inplace=True)\n",
    "df_blast.head()"
   ]
  },
  {
   "cell_type": "code",
   "execution_count": 12,
   "metadata": {},
   "outputs": [],
   "source": [
    "ched = {'C', 'H', 'E', 'D'}\n",
    "def collect_matched_residues(uniprot, pdb_polymer):\n",
    "    uni_seq = uniprot_to_seq[uniprot]\n",
    "    anno_uni_seq = anno_uniprot_to_seq[pdb_polymer]\n",
    "    \n",
    "    uni_residues = uniprot_to_residues[uniprot]\n",
    "    anno_uni_residues = anno_uniprot_to_residues[pdb_polymer]\n",
    "    \n",
    "    align_dict = align_two_seq(uni_seq, anno_uni_seq)\n",
    "    metal_matched_dict = dict()\n",
    "    for uni_resi, uni_seq_num in uni_residues:\n",
    "        uni_seq_posi = uni_seq_num - 1\n",
    "        if uni_seq_posi in align_dict.keys():\n",
    "            anno_uni_seq_num = align_dict[uni_seq_posi] + 1\n",
    "            for r in ched:\n",
    "                if (r, anno_uni_seq_num) in anno_uni_residues:\n",
    "                    metal_matched_dict[(uni_resi, uni_seq_num)] = (r, anno_uni_seq_num)\n",
    "                    break\n",
    "    return metal_matched_dict\n",
    "\n",
    "records = []\n",
    "for uniprot, df in df_blast.groupby(['uniprot']):\n",
    "    cur_matched = dict()\n",
    "    df_ = df.sort_values(by=['bitscore'], ascending=False)\n",
    "    for _, row in df_.iterrows():\n",
    "        anno_uniprot = row['anno_uniprot']\n",
    "        evalue = row['evalue']\n",
    "        result = collect_matched_residues(uniprot, anno_uniprot)\n",
    "        if len(result.keys()) != 0:\n",
    "            if \"mapper\" not in cur_matched.keys():\n",
    "                cur_matched['anno_uniprot'] = anno_uniprot\n",
    "                cur_matched['mapper'] = result\n",
    "                cur_matched['evalue'] = evalue\n",
    "            else:\n",
    "                if len(result.keys()) > len(cur_matched['mapper'].keys()):\n",
    "                    cur_matched['anno_uniprot'] = anno_uniprot\n",
    "                    cur_matched['mapper'] = result\n",
    "                    cur_matched['evalue'] = evalue\n",
    "    if \"anno_uniprot\" in cur_matched.keys():\n",
    "        records.append({\n",
    "            \"uniprot\": uniprot,\n",
    "            \"anno_uniprot\": cur_matched['anno_uniprot'],\n",
    "            \"evalue\": cur_matched['evalue'],\n",
    "            \"mapper\": cur_matched['mapper']\n",
    "        })\n",
    "pd.DataFrame(records).to_csv(\"pred_mbps_annotation_evidence.tsv\", sep=\"\\t\", index=None)"
   ]
  },
  {
   "cell_type": "markdown",
   "metadata": {},
   "source": [
    "## 3. analyze and visualize"
   ]
  },
  {
   "cell_type": "code",
   "execution_count": 5,
   "metadata": {},
   "outputs": [
    {
     "name": "stdout",
     "output_type": "stream",
     "text": [
      "{'structural evidence': 10129, 'indirect evidence': 495, 'unannotated': 5021}\n"
     ]
    }
   ],
   "source": [
    "struct_evid = pd.read_table(\"pred_mbps_structural_evidence.tsv\")\n",
    "anno_evid = pd.read_table(\"pred_mbps_annotation_evidence.tsv\")\n",
    "uni_with_struct_evid = set(struct_evid['uniprot'])\n",
    "uni_with_anno_evid = set(anno_evid['uniprot'])\n",
    "intersection = uni_with_anno_evid & uni_with_struct_evid\n",
    "no_evid = set(df_pred['uniprot']) - uni_with_struct_evid - (uni_with_anno_evid - intersection)\n",
    "\n",
    "data = {\n",
    "    \"structural evidence\": len(uni_with_struct_evid),\n",
    "    \"indirect evidence\": len(uni_with_anno_evid - intersection),\n",
    "    \"unannotated\": len(no_evid)\n",
    "}\n",
    "y = data.values()\n",
    "x = data.keys()\n",
    "print(data)"
   ]
  },
  {
   "cell_type": "code",
   "execution_count": 6,
   "metadata": {},
   "outputs": [],
   "source": [
    "dfs = []\n",
    "for i in species:\n",
    "    df = pd.read_table(f\"../{i}_pred_mbps.tsv\")\n",
    "    df = df[df['seq_id'].map(lambda x: x in no_evid)]\n",
    "    df = df.drop(columns=['index'])\n",
    "    df['species'] = i\n",
    "    dfs.append(df)\n",
    "pd.concat(dfs).to_csv(\"no_evidence_pred_mbps.tsv\", sep=\"\\t\", index=None)"
   ]
  },
  {
   "cell_type": "code",
   "execution_count": 8,
   "metadata": {},
   "outputs": [
    {
     "data": {
      "text/plain": [
       "<matplotlib.legend.Legend at 0x7f5e7a8888e0>"
      ]
     },
     "execution_count": 8,
     "metadata": {},
     "output_type": "execute_result"
    },
    {
     "data": {
      "text/plain": [
       "Text(0.5, -0.1, 'Total number of predicted\\n proteins = 15645')"
      ]
     },
     "execution_count": 8,
     "metadata": {},
     "output_type": "execute_result"
    },
    {
     "data": {
      "image/png": "[encoded data removed]",
      "text/plain": [
       "<Figure size 640x480 with 1 Axes>"
      ]
     },
     "metadata": {},
     "output_type": "display_data"
    }
   ],
   "source": [
    "import matplotlib.pyplot as plt\n",
    "plt.style.use(f\"{PROJECT_DIR}/asset/metalnet.mplstyle\")\n",
    "\n",
    "def make_autopct(values):\n",
    "    def my_autopct(pct):\n",
    "        total = sum(values)\n",
    "        val = int(round(pct*total/100.0))\n",
    "        return '{p:.1f}%\\n({v:d})'.format(p=pct,v=val)\n",
    "    return my_autopct\n",
    "\n",
    "patches= plt.pie(\n",
    "    y,\n",
    "    radius=1,\n",
    "    autopct=make_autopct(y),\n",
    ")\n",
    "plt.legend(\n",
    "    x, \n",
    "    bbox_to_anchor=(0.5, 1.1), \n",
    "    loc='center', \n",
    ")\n",
    "plt.title(\n",
    "    f\"Total number of predicted\\n proteins = {sum(y)}\",\n",
    "    loc=\"center\",\n",
    "    y=-0.1,\n",
    "    fontsize=14\n",
    ")\n",
    "plt.savefig(\"./fig/ratio_metalloproteome_evidence.pdf\", bbox_inches=\"tight\", transparent=True)"
   ]
  }
 ],
 "metadata": {
  "kernelspec": {
   "display_name": "metalnet",
   "language": "python",
   "name": "python3"
  },
  "language_info": {
   "codemirror_mode": {
    "name": "ipython",
    "version": 3
   },
   "file_extension": ".py",
   "mimetype": "text/x-python",
   "name": "python",
   "nbconvert_exporter": "python",
   "pygments_lexer": "ipython3",
   "version": "3.9.16"
  },
  "orig_nbformat": 4
 },
 "nbformat": 4,
 "nbformat_minor": 2
}
