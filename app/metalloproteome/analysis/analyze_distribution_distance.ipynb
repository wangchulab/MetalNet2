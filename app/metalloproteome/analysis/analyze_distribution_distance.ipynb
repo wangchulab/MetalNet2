{
 "cells": [
  {
   "cell_type": "code",
   "execution_count": 1,
   "metadata": {},
   "outputs": [],
   "source": [
    "from Bio.PDB.MMCIFParser import MMCIFParser\n",
    "from Bio.PDB.Residue import Residue\n",
    "from itertools import product\n",
    "from typing import List\n",
    "import numpy as np\n",
    "from pathlib import Path\n",
    "from Bio.PDB.PDBParser import PDBParser\n",
    "from Bio.SeqUtils import seq1\n",
    "import pandas as pd\n",
    "from Bio import SeqIO\n",
    "\n",
    "species = ['human', 'worm', 'yeast', 'zebrafish']\n",
    "pdb_file_path = Path(\"~/database/pdb/species\").expanduser()\n",
    "fasta_file_path = Path(\"~/database/uniprot/fasta/\").expanduser()"
   ]
  },
  {
   "cell_type": "markdown",
   "metadata": {},
   "source": [
    "## analyze distance distributuion"
   ]
  },
  {
   "cell_type": "markdown",
   "metadata": {},
   "source": [
    "### 1. collect data: min distance in all predicted residues"
   ]
  },
  {
   "cell_type": "code",
   "execution_count": 2,
   "metadata": {},
   "outputs": [],
   "source": [
    "hetero_atoms = {'N', 'O', 'S'}\n",
    "main_chain_atom_names = {'CA', 'O', 'N', 'C', 'OXT'}\n",
    "\n",
    "def calc_min_distance(\n",
    "    resi1: Residue,\n",
    "    residues: List[Residue],\n",
    "):\n",
    "    def calc_distance(r1: Residue, r2: Residue):\n",
    "        atoms_1 = [a for a in r1.get_atoms() if a.element in hetero_atoms and a.get_name() not in main_chain_atom_names] # side chain hetero atoms\n",
    "        atoms_2 = [a for a in r2.get_atoms() if a.element in hetero_atoms and a.get_name() not in main_chain_atom_names]\n",
    "        distances = [i - j for i, j in product(atoms_1, atoms_2)]\n",
    "        return np.min(distances) if len(distances) != 0 else np.inf\n",
    "    \n",
    "    residues_ = [r for r in residues if r != resi1]\n",
    "    distances = [calc_distance(resi1, r) for r in residues_]\n",
    "    index = np.argmin(distances)\n",
    "    \n",
    "    min_distance = distances[index]\n",
    "    \n",
    "    return min_distance"
   ]
  },
  {
   "cell_type": "markdown",
   "metadata": {},
   "source": [
    "#### 1.1 collect predicted results from af2 struct"
   ]
  },
  {
   "cell_type": "code",
   "execution_count": 3,
   "metadata": {},
   "outputs": [],
   "source": [
    "uniprots_to_seq = dict()\n",
    "for i in species:\n",
    "    fasta_file = fasta_file_path / f\"{i}_for_msa.fasta\"\n",
    "    for s in SeqIO.parse(fasta_file, \"fasta\"):\n",
    "        uniprots_to_seq[s.id] = str(s.seq)"
   ]
  },
  {
   "cell_type": "code",
   "execution_count": 4,
   "metadata": {},
   "outputs": [],
   "source": [
    "import sys\n",
    "sys.path.append(f\"{PROJECT_DIR}/dataset/collect/scripts/utils/\")\n",
    "from mmcif_utils import align_two_seq\n",
    "\n",
    "df_high_conf = pd.read_table(\"./no_evidence_pred_mbps.tsv\")\n",
    "af2_distances = []\n",
    "adjacent_pairs = []\n",
    "for sp_uniprot, df in df_high_conf.groupby(by=['species', 'seq_id']):\n",
    "    species, uniprot = sp_uniprot\n",
    "    pdb_file = pdb_file_path / f\"{species}_af2\" / f\"AF-{uniprot}-F1-model_v4.pdb\"\n",
    "    \n",
    "    if not pdb_file.exists(): continue\n",
    "    \n",
    "    residues = list(PDBParser(QUIET=True).get_structure(uniprot, pdb_file).get_residues())\n",
    "    seq_af2 = \"\"\n",
    "    for r in residues:\n",
    "        seq_af2 += seq1(r.get_resname())\n",
    "    seq_uniprot = uniprots_to_seq[uniprot]\n",
    "    uni_to_af2 = align_two_seq(seq_uniprot, seq_af2) # may not consistent, such as P51606\n",
    "    \n",
    "    target_af2_seq_posis = set()    \n",
    "    for _, row in df.iterrows():\n",
    "        resi_name_1 = row['resi_1']\n",
    "        resi_name_2 = row['resi_2']\n",
    "        posi_1 = row['resi_seq_posi_1']\n",
    "        posi_2 = row['resi_seq_posi_2']\n",
    "        \n",
    "        try:\n",
    "            posi_1_af2 = uni_to_af2[posi_1]\n",
    "            posi_2_af2 = uni_to_af2[posi_2]\n",
    "            resi_1: Residue = residues[posi_1_af2]\n",
    "            resi_2: Residue = residues[posi_2_af2]\n",
    "            assert seq1(resi_1.get_resname()) == resi_name_1\n",
    "            assert seq1(resi_2.get_resname()) == resi_name_2\n",
    "            \n",
    "            target_af2_seq_posis.add(posi_1_af2)\n",
    "            target_af2_seq_posis.add(posi_2_af2)\n",
    "        except:\n",
    "            continue\n",
    "    \n",
    "    target_residues = set()\n",
    "    for index, r in enumerate(residues):\n",
    "        if index in target_af2_seq_posis: target_residues.add(r)\n",
    "    \n",
    "    for r in target_residues:\n",
    "        distance = calc_min_distance(r, target_residues)\n",
    "        if distance < 2.5:\n",
    "            adjacent_pairs.append((distance, r.get_full_id(), r.get_resname()))\n",
    "        af2_distances.append(distance)"
   ]
  },
  {
   "cell_type": "code",
   "execution_count": 5,
   "metadata": {},
   "outputs": [
    {
     "data": {
      "text/plain": [
       "[(2.0469828, ('A0A1B0GTK4', 0, 'A', (' ', 105, ' ')), 'CYS'),\n",
       " (2.0469828, ('A0A1B0GTK4', 0, 'A', (' ', 49, ' ')), 'CYS'),\n",
       " (2.0623527, ('A0A494C0Y3', 0, 'A', (' ', 96, ' ')), 'CYS'),\n",
       " (2.0623527, ('A0A494C0Y3', 0, 'A', (' ', 99, ' ')), 'CYS'),\n",
       " (2.0790782, ('A0A6Q8PFD8', 0, 'A', (' ', 29, ' ')), 'CYS'),\n",
       " (2.032774, ('A0A6Q8PFD8', 0, 'A', (' ', 32, ' ')), 'CYS'),\n",
       " (2.032774, ('A0A6Q8PFD8', 0, 'A', (' ', 14, ' ')), 'CYS'),\n",
       " (2.0790782, ('A0A6Q8PFD8', 0, 'A', (' ', 17, ' ')), 'CYS'),\n",
       " (2.0284405, ('A1L188', 0, 'A', (' ', 61, ' ')), 'CYS'),\n",
       " (2.037651, ('A1L188', 0, 'A', (' ', 35, ' ')), 'CYS')]"
      ]
     },
     "execution_count": 5,
     "metadata": {},
     "output_type": "execute_result"
    }
   ],
   "source": [
    "adjacent_pairs[:10]"
   ]
  },
  {
   "cell_type": "markdown",
   "metadata": {},
   "source": [
    "#### 1.2 compare with true distribution in metalnet dataset"
   ]
  },
  {
   "cell_type": "code",
   "execution_count": 6,
   "metadata": {},
   "outputs": [],
   "source": [
    "df_pdb_files = pd.read_table(\"~/database/pdb/rcsb_20230430/all_protein_files.csv\")\n",
    "dict_pdb_files = dict(zip(df_pdb_files['pdb'], df_pdb_files['pdb_file']))\n",
    "\n",
    "resi_id_to_full_id = dict()\n",
    "df = pd.read_table(f\"{PROJECT_DIR}/dataset/collect/nr_metal_sites.tsv\")\n",
    "for _, row in df.iterrows():\n",
    "    pdb, model, chain = row['pdb'], row['model'], row['resi_chain']\n",
    "    resi_pdb_seq_num, resi_ndb_seq_can_num = row['resi_pdb_seq_num'], row['resi_ndb_seq_can_num']\n",
    "    ins_code = row['resi_pdb_ins_code']\n",
    "    short_id = (pdb, chain, resi_ndb_seq_can_num)\n",
    "    full_id = (pdb, model, chain, (\" \", resi_pdb_seq_num, ins_code))\n",
    "    resi_id_to_full_id[short_id] = full_id"
   ]
  },
  {
   "cell_type": "code",
   "execution_count": 7,
   "metadata": {},
   "outputs": [],
   "source": [
    "# pair distance distribution in a single chain\n",
    "df_test = pd.read_table(f\"{PROJECT_DIR}/dataset/transform/train_metalnet.tsv\")\n",
    "df_train = pd.read_table(f\"{PROJECT_DIR}/dataset/transform/test_metalnet.tsv\")\n",
    "df_all = pd.concat([df_test, df_train])\n",
    "\n",
    "distance_threshold = 2\n",
    "residues_with_low_min_distance = []\n",
    "rcsb_distances = []\n",
    "for pdb, df in df_all.groupby(['pdb']):\n",
    "    pdb_file = dict_pdb_files[pdb]\n",
    "    pdb_file = Path(pdb_file).expanduser()\n",
    "    \n",
    "    resi_ids = set(zip(df['pdb'], df['resi_chain'], df['resi_ndb_seq_can_num']))\n",
    "    resi_ids = set([resi_id_to_full_id[i] for i in resi_ids])\n",
    "    residues = MMCIFParser(QUIET=True).get_structure(pdb, pdb_file).get_residues()\n",
    "\n",
    "    target_residues = set()\n",
    "    for r in residues:\n",
    "        if r.get_full_id() in resi_ids: target_residues.add(r)\n",
    "    \n",
    "    if len(target_residues) == 1: continue\n",
    "    for r in target_residues:\n",
    "        min_distance = calc_min_distance(r, target_residues)\n",
    "        if min_distance < distance_threshold:\n",
    "            residues_with_low_min_distance.append((r.get_full_id(), min_distance))\n",
    "        rcsb_distances.append(min_distance)\n",
    "\n",
    "# about half an hour"
   ]
  },
  {
   "cell_type": "code",
   "execution_count": 8,
   "metadata": {},
   "outputs": [
    {
     "data": {
      "text/plain": [
       "[(('1ile', 0, 'A', (' ', 502, ' ')), 0.92674744),\n",
       " (('1ile', 0, 'A', (' ', 504, ' ')), 0.92674744),\n",
       " (('1ile', 0, 'A', (' ', 464, ' ')), 0.9428607),\n",
       " (('1ile', 0, 'A', (' ', 461, ' ')), 0.9428607),\n",
       " (('1ile', 0, 'A', (' ', 392, ' ')), 1.0615674),\n",
       " (('1ile', 0, 'A', (' ', 389, ' ')), 1.0615674),\n",
       " (('1ile', 0, 'A', (' ', 181, ' ')), 1.3816304),\n",
       " (('1ile', 0, 'A', (' ', 184, ' ')), 1.6612158),\n",
       " (('6agi', 0, 'B', (' ', 485, ' ')), 1.7248284),\n",
       " (('6agi', 0, 'B', (' ', 483, ' ')), 1.7248284)]"
      ]
     },
     "execution_count": 8,
     "metadata": {},
     "output_type": "execute_result"
    }
   ],
   "source": [
    "# some weird cases\n",
    "residues_with_low_min_distance.sort(key=lambda x: x[1])\n",
    "residues_with_low_min_distance[:10]"
   ]
  },
  {
   "cell_type": "code",
   "execution_count": 9,
   "metadata": {},
   "outputs": [
    {
     "name": "stdout",
     "output_type": "stream",
     "text": [
      "0.9671975412126292\n",
      "0.9859970785271748\n"
     ]
    }
   ],
   "source": [
    "# skip distances higher than 10\n",
    "distance_threshold = 10\n",
    "af2 = np.array(af2_distances)\n",
    "af2 = af2[np.where(af2 <= distance_threshold)]\n",
    "print(len(af2) / len(af2_distances)) # how many are discarded by threshold\n",
    "pdb = np.array(rcsb_distances)\n",
    "pdb = pdb[np.where(pdb <= distance_threshold)]\n",
    "print(len(pdb) / len(rcsb_distances))"
   ]
  },
  {
   "cell_type": "markdown",
   "metadata": {},
   "source": [
    "### 2 visualize"
   ]
  },
  {
   "cell_type": "code",
   "execution_count": 10,
   "metadata": {},
   "outputs": [],
   "source": [
    "import matplotlib.pyplot as plt\n",
    "import seaborn as sns\n",
    "\n",
    "plt.style.use(f\"{PROJECT_DIR}/asset/metalnet.mplstyle\")"
   ]
  },
  {
   "cell_type": "code",
   "execution_count": 12,
   "metadata": {},
   "outputs": [
    {
     "data": {
      "text/plain": [
       "<Axes: ylabel='Density'>"
      ]
     },
     "execution_count": 12,
     "metadata": {},
     "output_type": "execute_result"
    },
    {
     "data": {
      "text/plain": [
       "<Axes: ylabel='Density'>"
      ]
     },
     "execution_count": 12,
     "metadata": {},
     "output_type": "execute_result"
    },
    {
     "data": {
      "text/plain": [
       "Text(0, 0.5, 'Density')"
      ]
     },
     "execution_count": 12,
     "metadata": {},
     "output_type": "execute_result"
    },
    {
     "data": {
      "text/plain": [
       "Text(0.5, 0, 'Minimum pair distance (Å)')"
      ]
     },
     "execution_count": 12,
     "metadata": {},
     "output_type": "execute_result"
    },
    {
     "data": {
      "text/plain": [
       "<matplotlib.legend.Legend at 0x7fabda205be0>"
      ]
     },
     "execution_count": 12,
     "metadata": {},
     "output_type": "execute_result"
    },
    {
     "data": {
      "image/png": "[encoded data removed]",
      "text/plain": [
       "<Figure size 640x480 with 1 Axes>"
      ]
     },
     "metadata": {},
     "output_type": "display_data"
    }
   ],
   "source": [
    "ax = plt.gca()\n",
    "ax.spines['top'].set_visible(False)\n",
    "ax.spines['right'].set_visible(False)\n",
    "\n",
    "sns.kdeplot(af2, linewidth=0, multiple=\"stack\")\n",
    "sns.kdeplot(pdb, linewidth=0, multiple=\"stack\")\n",
    "plt.ylabel(\"Density\")\n",
    "plt.xlabel(\"Minimum pair distance (Å)\")\n",
    "plt.legend(labels=['AF2 structures',\n",
    "                   'PDB structures'],\n",
    "           loc='upper right',\n",
    "           bbox_to_anchor=(1,1))\n",
    "\n",
    "plt.savefig(\"./fig/distribution_pair_distance.pdf\", bbox_inches=\"tight\", transparent=True)"
   ]
  },
  {
   "cell_type": "code",
   "execution_count": null,
   "metadata": {},
   "outputs": [],
   "source": []
  }
 ],
 "metadata": {
  "kernelspec": {
   "display_name": "metalnet",
   "language": "python",
   "name": "python3"
  },
  "language_info": {
   "codemirror_mode": {
    "name": "ipython",
    "version": 3
   },
   "file_extension": ".py",
   "mimetype": "text/x-python",
   "name": "python",
   "nbconvert_exporter": "python",
   "pygments_lexer": "ipython3",
   "version": "3.9.16"
  },
  "orig_nbformat": 4
 },
 "nbformat": 4,
 "nbformat_minor": 2
}
