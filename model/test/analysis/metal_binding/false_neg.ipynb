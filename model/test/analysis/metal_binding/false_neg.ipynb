{
 "cells": [
  {
   "cell_type": "code",
   "execution_count": 38,
   "metadata": {},
   "outputs": [],
   "source": [
    "import pandas as pd\n",
    "\n",
    "def calc_fn_pred(\n",
    "    df_anno: pd.DataFrame,\n",
    "    pred_residues: set,\n",
    "):\n",
    "    true_resi = set(zip(df_anno['seq_id'], df_anno['resi_domain_posi'], df_anno['resi']))\n",
    "    fn_resi = true_resi - (true_resi & pred_residues) # labelled as true but pred as false\n",
    "    df_fn_resi = df_anno[df_anno.apply(lambda row: (row['seq_id'], row['resi_domain_posi'], row['resi']) in fn_resi, axis=1)]\n",
    "    \n",
    "    # number of true sites\n",
    "    site_to_resi = dict()\n",
    "    for site, df_site in df_anno.groupby(['seq_id', 'metal_chain', 'metal_pdb_seq_num', 'metal_resi']):\n",
    "        site_to_resi[site] = set(zip(df_site['seq_id'], df_site['resi_domain_posi'], df_site['resi']))\n",
    "\n",
    "    fn_site = set()\n",
    "    for k, v in site_to_resi.items():\n",
    "        fn = v & fn_resi\n",
    "        if len(fn) == len(v):\n",
    "            fn_site.add(k)\n",
    "    df_fn_site = df_anno[df_anno.apply(lambda row: (row['seq_id'], row['metal_chain'], row['metal_pdb_seq_num'], row['metal_resi']) in fn_site, axis=1)]\n",
    "    \n",
    "    return df_fn_resi, df_fn_site\n",
    "\n",
    "def get_sites(df: pd.DataFrame):\n",
    "    return set(zip(df['seq_id'], df['metal_chain'], df['metal_pdb_seq_num'], df['metal_resi']))\n",
    "\n",
    "def calc_fn_freq_on_type(\n",
    "    true_sites: set,\n",
    "    fn_sites: set,\n",
    "):\n",
    "    def metal_to_num(sites: set):\n",
    "        dict_metal_to_num = dict()\n",
    "        for s in sites:\n",
    "            metal = s[-1]\n",
    "            if metal in dict_metal_to_num.keys():\n",
    "                dict_metal_to_num[metal] += 1\n",
    "            else:\n",
    "                dict_metal_to_num[metal] = 1\n",
    "        return dict_metal_to_num\n",
    "\n",
    "    true_metal_num = metal_to_num(true_sites)\n",
    "    fn_metal_num = metal_to_num(fn_sites)\n",
    "    freq_fn = dict()\n",
    "    for i in true_metal_num.keys():\n",
    "\n",
    "        true_num = true_metal_num[i]\n",
    "        try:\n",
    "            fn_num = fn_metal_num[i]\n",
    "        except:\n",
    "            fn_num = 0\n",
    "        freq_fn[i] = fn_num / true_num\n",
    "        \n",
    "    return freq_fn"
   ]
  },
  {
   "cell_type": "code",
   "execution_count": 39,
   "metadata": {},
   "outputs": [],
   "source": [
    "df_anno = pd.read_table(f\"{PROJECT_DIR}/dataset/transform/test_metalnet.tsv\")\n",
    "df_pred = pd.read_table(\"../../pred_pairs.tsv\")\n",
    "\n",
    "df_pred = df_pred[df_pred['filter_by_graph'] == 1]\n",
    "pred_resi = set()\n",
    "for i, row in df_pred.iterrows():\n",
    "    pred_resi.add((row['seq_id'], row['resi_seq_posi_1'], row['resi_1']))\n",
    "    pred_resi.add((row['seq_id'], row['resi_seq_posi_2'], row['resi_2']))"
   ]
  },
  {
   "cell_type": "code",
   "execution_count": 40,
   "metadata": {},
   "outputs": [
    {
     "data": {
      "text/plain": [
       "594"
      ]
     },
     "execution_count": 40,
     "metadata": {},
     "output_type": "execute_result"
    },
    {
     "data": {
      "text/plain": [
       "503"
      ]
     },
     "execution_count": 40,
     "metadata": {},
     "output_type": "execute_result"
    },
    {
     "data": {
      "text/plain": [
       "242"
      ]
     },
     "execution_count": 40,
     "metadata": {},
     "output_type": "execute_result"
    },
    {
     "data": {
      "text/plain": [
       "687"
      ]
     },
     "execution_count": 40,
     "metadata": {},
     "output_type": "execute_result"
    }
   ],
   "source": [
    "df_fn_resi, df_fn_site = calc_fn_pred(df_anno, pred_resi)\n",
    "\n",
    "fn_sites = get_sites(df_fn_site)\n",
    "all_sites = get_sites(df_anno)\n",
    "\n",
    "len(df_fn_resi)\n",
    "len(df_fn_site)\n",
    "len(fn_sites)\n",
    "len(all_sites)"
   ]
  },
  {
   "cell_type": "code",
   "execution_count": 42,
   "metadata": {},
   "outputs": [
    {
     "data": {
      "text/plain": [
       "{'ZN': 0.21052631578947367,\n",
       " 'CA': 0.4829059829059829,\n",
       " 'MN': 0.15625,\n",
       " 'SF4': 0.13333333333333333,\n",
       " 'MG': 0.6329113924050633,\n",
       " 'FES': 0.0,\n",
       " 'CU': 0.3,\n",
       " 'FE': 0.1,\n",
       " 'NI': 0.8,\n",
       " 'CO': 0.125,\n",
       " 'F3S': 0.0}"
      ]
     },
     "execution_count": 42,
     "metadata": {},
     "output_type": "execute_result"
    }
   ],
   "source": [
    "fn_freq = calc_fn_freq_on_type(all_sites, fn_sites)\n",
    "fn_freq"
   ]
  }
 ],
 "metadata": {
  "kernelspec": {
   "display_name": "metalnet",
   "language": "python",
   "name": "python3"
  },
  "language_info": {
   "codemirror_mode": {
    "name": "ipython",
    "version": 3
   },
   "file_extension": ".py",
   "mimetype": "text/x-python",
   "name": "python",
   "nbconvert_exporter": "python",
   "pygments_lexer": "ipython3",
   "version": "3.9.16"
  }
 },
 "nbformat": 4,
 "nbformat_minor": 2
}
