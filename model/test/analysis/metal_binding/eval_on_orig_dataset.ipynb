{
 "cells": [
  {
   "cell_type": "code",
   "execution_count": 2,
   "metadata": {},
   "outputs": [],
   "source": [
    "import pandas as pd\n",
    "\n",
    "import sys\n",
    "sys.path.append(f\"{PROJECT_DIR}/model/scripts/utils\")\n",
    "\n",
    "from train_utils import calc_metrics_for_pairs"
   ]
  },
  {
   "cell_type": "code",
   "execution_count": 5,
   "metadata": {},
   "outputs": [],
   "source": [
    "df_anno = pd.read_table(f\"{PROJECT_DIR}/dataset/collect/metal_chains_test.tsv\")\n",
    "\n",
    "\n",
    "def to_seq_id(row: dict):\n",
    "    if row['domain'] == \" \":\n",
    "        return \"_\".join([row['pdb'], row['metal_chain']])\n",
    "    else:\n",
    "        domain = eval(row['domain'])\n",
    "        return \"_\".join([row['pdb'], row['metal_chain'], domain[0], domain[1]])\n",
    "    \n",
    "def to_resi_domain_posi(row: dict):\n",
    "    lower_bound = 1\n",
    "    if row['domain'] != \" \":\n",
    "        lower_bound = eval(row['domain'])[0]\n",
    "    return row['resi_ndb_seq_can_num'] - lower_bound\n",
    "\n",
    "df_anno['seq_id'] = df_anno.apply(lambda row: to_seq_id(row), axis=1)\n",
    "df_anno['resi_domain_posi'] = df_anno.apply(lambda row: to_resi_domain_posi(row), axis=1)"
   ]
  },
  {
   "cell_type": "code",
   "execution_count": 6,
   "metadata": {},
   "outputs": [],
   "source": [
    "df_pred = pd.read_table(\"../../pred_pairs.tsv\")"
   ]
  },
  {
   "cell_type": "code",
   "execution_count": 9,
   "metadata": {},
   "outputs": [
    {
     "data": {
      "text/plain": [
       "{'precision': 0.825595238095238,\n",
       " 'recall': 0.5334615384615384,\n",
       " 'f1': 0.6481308411214953}"
      ]
     },
     "execution_count": 9,
     "metadata": {},
     "output_type": "execute_result"
    }
   ],
   "source": [
    "calc_metrics_for_pairs(df_anno=df_anno, df_pred=df_pred[df_pred['filter_by_graph'] == 1])"
   ]
  }
 ],
 "metadata": {
  "kernelspec": {
   "display_name": "metalnet",
   "language": "python",
   "name": "python3"
  },
  "language_info": {
   "codemirror_mode": {
    "name": "ipython",
    "version": 3
   },
   "file_extension": ".py",
   "mimetype": "text/x-python",
   "name": "python",
   "nbconvert_exporter": "python",
   "pygments_lexer": "ipython3",
   "version": "3.9.16"
  }
 },
 "nbformat": 4,
 "nbformat_minor": 2
}
