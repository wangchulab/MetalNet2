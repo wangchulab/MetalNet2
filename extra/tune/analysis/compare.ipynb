{
 "cells": [
  {
   "cell_type": "code",
   "execution_count": 1,
   "metadata": {},
   "outputs": [],
   "source": [
    "import os\n",
    "import numpy as np\n",
    "import pandas as pd"
   ]
  },
  {
   "cell_type": "code",
   "execution_count": 2,
   "metadata": {},
   "outputs": [],
   "source": [
    "records = []\n",
    "\n",
    "os.chdir(\"../pair_encoder/result/\")\n",
    "for d in os.listdir(\"./\"):\n",
    "\n",
    "    if d.endswith(\"_result.tsv\"):\n",
    "        df = pd.read_table(d)\n",
    "\n",
    "        avg_f1 = np.average(df['f1_macro_avg'])\n",
    "        std_f1 = np.std(df['f1_macro_avg'], ddof=1)\n",
    "\n",
    "        record = {\n",
    "            \"f1_avg\": round(avg_f1, 6),\n",
    "            \"f1_std\": round(std_f1, 6),\n",
    "            \"file\": d\n",
    "        }\n",
    "        records.append(record)\n",
    "\n",
    "        \n",
    "os.chdir(\"../../analysis/\")"
   ]
  },
  {
   "cell_type": "code",
   "execution_count": 3,
   "metadata": {},
   "outputs": [
    {
     "data": {
      "text/html": [
       "<div>\n",
       "<style scoped>\n",
       "    .dataframe tbody tr th:only-of-type {\n",
       "        vertical-align: middle;\n",
       "    }\n",
       "\n",
       "    .dataframe tbody tr th {\n",
       "        vertical-align: top;\n",
       "    }\n",
       "\n",
       "    .dataframe thead th {\n",
       "        text-align: right;\n",
       "    }\n",
       "</style>\n",
       "<table border=\"1\" class=\"dataframe\">\n",
       "  <thead>\n",
       "    <tr style=\"text-align: right;\">\n",
       "      <th></th>\n",
       "      <th>f1_avg</th>\n",
       "      <th>f1_std</th>\n",
       "      <th>file</th>\n",
       "    </tr>\n",
       "  </thead>\n",
       "  <tbody>\n",
       "    <tr>\n",
       "      <th>1</th>\n",
       "      <td>0.474954</td>\n",
       "      <td>0.006818</td>\n",
       "      <td>esm2_max_result.tsv</td>\n",
       "    </tr>\n",
       "    <tr>\n",
       "      <th>2</th>\n",
       "      <td>0.479362</td>\n",
       "      <td>0.006559</td>\n",
       "      <td>esm2_cat_result.tsv</td>\n",
       "    </tr>\n",
       "    <tr>\n",
       "      <th>0</th>\n",
       "      <td>0.483790</td>\n",
       "      <td>0.007163</td>\n",
       "      <td>esm2_avg_result.tsv</td>\n",
       "    </tr>\n",
       "  </tbody>\n",
       "</table>\n",
       "</div>"
      ],
      "text/plain": [
       "     f1_avg    f1_std                 file\n",
       "1  0.474954  0.006818  esm2_max_result.tsv\n",
       "2  0.479362  0.006559  esm2_cat_result.tsv\n",
       "0  0.483790  0.007163  esm2_avg_result.tsv"
      ]
     },
     "execution_count": 3,
     "metadata": {},
     "output_type": "execute_result"
    }
   ],
   "source": [
    "pd.DataFrame(records).sort_values(by=['f1_avg'])"
   ]
  }
 ],
 "metadata": {
  "kernelspec": {
   "display_name": "metalnet",
   "language": "python",
   "name": "python3"
  },
  "language_info": {
   "codemirror_mode": {
    "name": "ipython",
    "version": 3
   },
   "file_extension": ".py",
   "mimetype": "text/x-python",
   "name": "python",
   "nbconvert_exporter": "python",
   "pygments_lexer": "ipython3",
   "version": "3.9.16"
  }
 },
 "nbformat": 4,
 "nbformat_minor": 2
}
